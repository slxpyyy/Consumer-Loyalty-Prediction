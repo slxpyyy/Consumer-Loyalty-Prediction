{
 "cells": [
  {
   "cell_type": "markdown",
   "id": "943676e8-a99d-48d9-9a07-cec478d20593",
   "metadata": {},
   "source": [
    "&emsp;&emsp;Perform data exploration and data cleaning on the three tables of merchant data and transaction data."
   ]
  },
  {
   "cell_type": "markdown",
   "id": "28a19d6e-433e-4741-bdb2-a94a4c9d684b",
   "metadata": {},
   "source": [
    "## Merchant Data"
   ]
  },
  {
   "cell_type": "markdown",
   "id": "8edbfffb-3f08-4bd2-8bce-9f57be0f9eef",
   "metadata": {},
   "source": [
    "### 1 Data Interpretation"
   ]
  },
  {
   "cell_type": "code",
   "execution_count": 142,
   "id": "54e12b92-7872-416e-b89b-cdbdb46739fd",
   "metadata": {},
   "outputs": [],
   "source": [
    "merchant = pd.read_csv('./merchants.csv', header=0)"
   ]
  },
  {
   "cell_type": "code",
   "execution_count": 110,
   "id": "c9d8d16c-b35a-4cc3-88ae-a4790069119e",
   "metadata": {},
   "outputs": [
    {
     "data": {
      "text/html": [
       "<div>\n",
       "<style scoped>\n",
       "    .dataframe tbody tr th:only-of-type {\n",
       "        vertical-align: middle;\n",
       "    }\n",
       "\n",
       "    .dataframe tbody tr th {\n",
       "        vertical-align: top;\n",
       "    }\n",
       "\n",
       "    .dataframe thead th {\n",
       "        text-align: right;\n",
       "    }\n",
       "</style>\n",
       "<table border=\"1\" class=\"dataframe\">\n",
       "  <thead>\n",
       "    <tr style=\"text-align: right;\">\n",
       "      <th></th>\n",
       "      <th>merchant_id</th>\n",
       "      <th>merchant_group_id</th>\n",
       "      <th>merchant_category_id</th>\n",
       "      <th>subsector_id</th>\n",
       "      <th>numerical_1</th>\n",
       "      <th>numerical_2</th>\n",
       "      <th>category_1</th>\n",
       "      <th>most_recent_sales_range</th>\n",
       "      <th>most_recent_purchases_range</th>\n",
       "      <th>avg_sales_lag3</th>\n",
       "      <th>...</th>\n",
       "      <th>avg_sales_lag6</th>\n",
       "      <th>avg_purchases_lag6</th>\n",
       "      <th>active_months_lag6</th>\n",
       "      <th>avg_sales_lag12</th>\n",
       "      <th>avg_purchases_lag12</th>\n",
       "      <th>active_months_lag12</th>\n",
       "      <th>category_4</th>\n",
       "      <th>city_id</th>\n",
       "      <th>state_id</th>\n",
       "      <th>category_2</th>\n",
       "    </tr>\n",
       "  </thead>\n",
       "  <tbody>\n",
       "    <tr>\n",
       "      <th>0</th>\n",
       "      <td>M_ID_838061e48c</td>\n",
       "      <td>8353</td>\n",
       "      <td>792</td>\n",
       "      <td>9</td>\n",
       "      <td>-0.057471</td>\n",
       "      <td>-0.057471</td>\n",
       "      <td>N</td>\n",
       "      <td>E</td>\n",
       "      <td>E</td>\n",
       "      <td>-0.40</td>\n",
       "      <td>...</td>\n",
       "      <td>-2.25</td>\n",
       "      <td>18.666667</td>\n",
       "      <td>6</td>\n",
       "      <td>-2.32</td>\n",
       "      <td>13.916667</td>\n",
       "      <td>12</td>\n",
       "      <td>N</td>\n",
       "      <td>242</td>\n",
       "      <td>9</td>\n",
       "      <td>1.0</td>\n",
       "    </tr>\n",
       "    <tr>\n",
       "      <th>1</th>\n",
       "      <td>M_ID_9339d880ad</td>\n",
       "      <td>3184</td>\n",
       "      <td>840</td>\n",
       "      <td>20</td>\n",
       "      <td>-0.057471</td>\n",
       "      <td>-0.057471</td>\n",
       "      <td>N</td>\n",
       "      <td>E</td>\n",
       "      <td>E</td>\n",
       "      <td>-0.72</td>\n",
       "      <td>...</td>\n",
       "      <td>-0.74</td>\n",
       "      <td>1.291667</td>\n",
       "      <td>6</td>\n",
       "      <td>-0.57</td>\n",
       "      <td>1.687500</td>\n",
       "      <td>12</td>\n",
       "      <td>N</td>\n",
       "      <td>22</td>\n",
       "      <td>16</td>\n",
       "      <td>1.0</td>\n",
       "    </tr>\n",
       "    <tr>\n",
       "      <th>2</th>\n",
       "      <td>M_ID_e726bbae1e</td>\n",
       "      <td>447</td>\n",
       "      <td>690</td>\n",
       "      <td>1</td>\n",
       "      <td>-0.057471</td>\n",
       "      <td>-0.057471</td>\n",
       "      <td>N</td>\n",
       "      <td>E</td>\n",
       "      <td>E</td>\n",
       "      <td>-82.13</td>\n",
       "      <td>...</td>\n",
       "      <td>-82.13</td>\n",
       "      <td>260.000000</td>\n",
       "      <td>2</td>\n",
       "      <td>-82.13</td>\n",
       "      <td>260.000000</td>\n",
       "      <td>2</td>\n",
       "      <td>N</td>\n",
       "      <td>-1</td>\n",
       "      <td>5</td>\n",
       "      <td>5.0</td>\n",
       "    </tr>\n",
       "    <tr>\n",
       "      <th>3</th>\n",
       "      <td>M_ID_a70e9c5f81</td>\n",
       "      <td>5026</td>\n",
       "      <td>792</td>\n",
       "      <td>9</td>\n",
       "      <td>-0.057471</td>\n",
       "      <td>-0.057471</td>\n",
       "      <td>Y</td>\n",
       "      <td>E</td>\n",
       "      <td>E</td>\n",
       "      <td>NaN</td>\n",
       "      <td>...</td>\n",
       "      <td>NaN</td>\n",
       "      <td>4.666667</td>\n",
       "      <td>6</td>\n",
       "      <td>NaN</td>\n",
       "      <td>3.833333</td>\n",
       "      <td>12</td>\n",
       "      <td>Y</td>\n",
       "      <td>-1</td>\n",
       "      <td>-1</td>\n",
       "      <td>NaN</td>\n",
       "    </tr>\n",
       "    <tr>\n",
       "      <th>4</th>\n",
       "      <td>M_ID_64456c37ce</td>\n",
       "      <td>2228</td>\n",
       "      <td>222</td>\n",
       "      <td>21</td>\n",
       "      <td>-0.057471</td>\n",
       "      <td>-0.057471</td>\n",
       "      <td>Y</td>\n",
       "      <td>E</td>\n",
       "      <td>E</td>\n",
       "      <td>NaN</td>\n",
       "      <td>...</td>\n",
       "      <td>NaN</td>\n",
       "      <td>0.361111</td>\n",
       "      <td>6</td>\n",
       "      <td>NaN</td>\n",
       "      <td>0.347222</td>\n",
       "      <td>12</td>\n",
       "      <td>Y</td>\n",
       "      <td>-1</td>\n",
       "      <td>-1</td>\n",
       "      <td>NaN</td>\n",
       "    </tr>\n",
       "  </tbody>\n",
       "</table>\n",
       "<p>5 rows × 22 columns</p>\n",
       "</div>"
      ],
      "text/plain": [
       "       merchant_id  merchant_group_id  merchant_category_id  subsector_id  \\\n",
       "0  M_ID_838061e48c               8353                   792             9   \n",
       "1  M_ID_9339d880ad               3184                   840            20   \n",
       "2  M_ID_e726bbae1e                447                   690             1   \n",
       "3  M_ID_a70e9c5f81               5026                   792             9   \n",
       "4  M_ID_64456c37ce               2228                   222            21   \n",
       "\n",
       "   numerical_1  numerical_2 category_1 most_recent_sales_range  \\\n",
       "0    -0.057471    -0.057471          N                       E   \n",
       "1    -0.057471    -0.057471          N                       E   \n",
       "2    -0.057471    -0.057471          N                       E   \n",
       "3    -0.057471    -0.057471          Y                       E   \n",
       "4    -0.057471    -0.057471          Y                       E   \n",
       "\n",
       "  most_recent_purchases_range  avg_sales_lag3  ...  avg_sales_lag6  \\\n",
       "0                           E           -0.40  ...           -2.25   \n",
       "1                           E           -0.72  ...           -0.74   \n",
       "2                           E          -82.13  ...          -82.13   \n",
       "3                           E             NaN  ...             NaN   \n",
       "4                           E             NaN  ...             NaN   \n",
       "\n",
       "   avg_purchases_lag6  active_months_lag6  avg_sales_lag12  \\\n",
       "0           18.666667                   6            -2.32   \n",
       "1            1.291667                   6            -0.57   \n",
       "2          260.000000                   2           -82.13   \n",
       "3            4.666667                   6              NaN   \n",
       "4            0.361111                   6              NaN   \n",
       "\n",
       "   avg_purchases_lag12  active_months_lag12  category_4  city_id state_id  \\\n",
       "0            13.916667                   12           N      242        9   \n",
       "1             1.687500                   12           N       22       16   \n",
       "2           260.000000                    2           N       -1        5   \n",
       "3             3.833333                   12           Y       -1       -1   \n",
       "4             0.347222                   12           Y       -1       -1   \n",
       "\n",
       "   category_2  \n",
       "0         1.0  \n",
       "1         1.0  \n",
       "2         5.0  \n",
       "3         NaN  \n",
       "4         NaN  \n",
       "\n",
       "[5 rows x 22 columns]"
      ]
     },
     "execution_count": 110,
     "metadata": {},
     "output_type": "execute_result"
    }
   ],
   "source": [
    "merchant.head(5)"
   ]
  },
  {
   "cell_type": "code",
   "execution_count": 111,
   "id": "7174ade2-28f1-4f6c-8240-cd14b061a043",
   "metadata": {},
   "outputs": [
    {
     "name": "stdout",
     "output_type": "stream",
     "text": [
      "<class 'pandas.core.frame.DataFrame'>\n",
      "RangeIndex: 334696 entries, 0 to 334695\n",
      "Data columns (total 22 columns):\n",
      " #   Column                       Non-Null Count   Dtype  \n",
      "---  ------                       --------------   -----  \n",
      " 0   merchant_id                  334696 non-null  object \n",
      " 1   merchant_group_id            334696 non-null  int64  \n",
      " 2   merchant_category_id         334696 non-null  int64  \n",
      " 3   subsector_id                 334696 non-null  int64  \n",
      " 4   numerical_1                  334696 non-null  float64\n",
      " 5   numerical_2                  334696 non-null  float64\n",
      " 6   category_1                   334696 non-null  object \n",
      " 7   most_recent_sales_range      334696 non-null  object \n",
      " 8   most_recent_purchases_range  334696 non-null  object \n",
      " 9   avg_sales_lag3               334683 non-null  float64\n",
      " 10  avg_purchases_lag3           334696 non-null  float64\n",
      " 11  active_months_lag3           334696 non-null  int64  \n",
      " 12  avg_sales_lag6               334683 non-null  float64\n",
      " 13  avg_purchases_lag6           334696 non-null  float64\n",
      " 14  active_months_lag6           334696 non-null  int64  \n",
      " 15  avg_sales_lag12              334683 non-null  float64\n",
      " 16  avg_purchases_lag12          334696 non-null  float64\n",
      " 17  active_months_lag12          334696 non-null  int64  \n",
      " 18  category_4                   334696 non-null  object \n",
      " 19  city_id                      334696 non-null  int64  \n",
      " 20  state_id                     334696 non-null  int64  \n",
      " 21  category_2                   322809 non-null  float64\n",
      "dtypes: float64(9), int64(8), object(5)\n",
      "memory usage: 56.2+ MB\n"
     ]
    }
   ],
   "source": [
    "merchant.info()"
   ]
  },
  {
   "cell_type": "code",
   "execution_count": 114,
   "id": "0071c539-ef0f-4e14-9657-f7036ad4bddb",
   "metadata": {},
   "outputs": [
    {
     "data": {
      "text/html": [
       "<div>\n",
       "<style scoped>\n",
       "    .dataframe tbody tr th:only-of-type {\n",
       "        vertical-align: middle;\n",
       "    }\n",
       "\n",
       "    .dataframe tbody tr th {\n",
       "        vertical-align: top;\n",
       "    }\n",
       "\n",
       "    .dataframe thead th {\n",
       "        text-align: right;\n",
       "    }\n",
       "</style>\n",
       "<table border=\"1\" class=\"dataframe\">\n",
       "  <thead>\n",
       "    <tr style=\"text-align: right;\">\n",
       "      <th></th>\n",
       "      <th>Columns</th>\n",
       "      <th>Description</th>\n",
       "    </tr>\n",
       "  </thead>\n",
       "  <tbody>\n",
       "    <tr>\n",
       "      <th>0</th>\n",
       "      <td>merchant_id</td>\n",
       "      <td>Unique merchant identifier</td>\n",
       "    </tr>\n",
       "    <tr>\n",
       "      <th>1</th>\n",
       "      <td>merchant_group_id</td>\n",
       "      <td>Merchant group (anonymized )</td>\n",
       "    </tr>\n",
       "    <tr>\n",
       "      <th>2</th>\n",
       "      <td>merchant_category_id</td>\n",
       "      <td>Unique identifier for merchant category (anony...</td>\n",
       "    </tr>\n",
       "    <tr>\n",
       "      <th>3</th>\n",
       "      <td>subsector_id</td>\n",
       "      <td>Merchant category group (anonymized )</td>\n",
       "    </tr>\n",
       "    <tr>\n",
       "      <th>4</th>\n",
       "      <td>numerical_1</td>\n",
       "      <td>anonymized measure</td>\n",
       "    </tr>\n",
       "    <tr>\n",
       "      <th>5</th>\n",
       "      <td>numerical_2</td>\n",
       "      <td>anonymized measure</td>\n",
       "    </tr>\n",
       "    <tr>\n",
       "      <th>6</th>\n",
       "      <td>category_1</td>\n",
       "      <td>anonymized category</td>\n",
       "    </tr>\n",
       "    <tr>\n",
       "      <th>7</th>\n",
       "      <td>most_recent_sales_range</td>\n",
       "      <td>Range of revenue (monetary units) in last acti...</td>\n",
       "    </tr>\n",
       "    <tr>\n",
       "      <th>8</th>\n",
       "      <td>most_recent_purchases_range</td>\n",
       "      <td>Range of quantity of transactions in last acti...</td>\n",
       "    </tr>\n",
       "    <tr>\n",
       "      <th>9</th>\n",
       "      <td>avg_sales_lag3</td>\n",
       "      <td>Monthly average of revenue in last 3 months di...</td>\n",
       "    </tr>\n",
       "    <tr>\n",
       "      <th>10</th>\n",
       "      <td>avg_purchases_lag3</td>\n",
       "      <td>Monthly average of transactions in last 3 mont...</td>\n",
       "    </tr>\n",
       "    <tr>\n",
       "      <th>11</th>\n",
       "      <td>active_months_lag3</td>\n",
       "      <td>Quantity of active months within last 3 months</td>\n",
       "    </tr>\n",
       "    <tr>\n",
       "      <th>12</th>\n",
       "      <td>avg_sales_lag6</td>\n",
       "      <td>Monthly average of revenue in last 6 months di...</td>\n",
       "    </tr>\n",
       "    <tr>\n",
       "      <th>13</th>\n",
       "      <td>avg_purchases_lag6</td>\n",
       "      <td>Monthly average of transactions in last 6 mont...</td>\n",
       "    </tr>\n",
       "    <tr>\n",
       "      <th>14</th>\n",
       "      <td>active_months_lag6</td>\n",
       "      <td>Quantity of active months within last 6 months</td>\n",
       "    </tr>\n",
       "    <tr>\n",
       "      <th>15</th>\n",
       "      <td>avg_sales_lag12</td>\n",
       "      <td>Monthly average of revenue in last 12 months d...</td>\n",
       "    </tr>\n",
       "    <tr>\n",
       "      <th>16</th>\n",
       "      <td>avg_purchases_lag12</td>\n",
       "      <td>Monthly average of transactions in last 12 mon...</td>\n",
       "    </tr>\n",
       "    <tr>\n",
       "      <th>17</th>\n",
       "      <td>active_months_lag12</td>\n",
       "      <td>Quantity of active months within last 12 months</td>\n",
       "    </tr>\n",
       "    <tr>\n",
       "      <th>18</th>\n",
       "      <td>category_4</td>\n",
       "      <td>anonymized category</td>\n",
       "    </tr>\n",
       "    <tr>\n",
       "      <th>19</th>\n",
       "      <td>city_id</td>\n",
       "      <td>City identifier (anonymized )</td>\n",
       "    </tr>\n",
       "    <tr>\n",
       "      <th>20</th>\n",
       "      <td>state_id</td>\n",
       "      <td>State identifier (anonymized )</td>\n",
       "    </tr>\n",
       "    <tr>\n",
       "      <th>21</th>\n",
       "      <td>category_2</td>\n",
       "      <td>anonymized category</td>\n",
       "    </tr>\n",
       "  </tbody>\n",
       "</table>\n",
       "</div>"
      ],
      "text/plain": [
       "                        Columns  \\\n",
       "0                   merchant_id   \n",
       "1             merchant_group_id   \n",
       "2          merchant_category_id   \n",
       "3                  subsector_id   \n",
       "4                   numerical_1   \n",
       "5                   numerical_2   \n",
       "6                    category_1   \n",
       "7       most_recent_sales_range   \n",
       "8   most_recent_purchases_range   \n",
       "9                avg_sales_lag3   \n",
       "10           avg_purchases_lag3   \n",
       "11           active_months_lag3   \n",
       "12               avg_sales_lag6   \n",
       "13           avg_purchases_lag6   \n",
       "14           active_months_lag6   \n",
       "15              avg_sales_lag12   \n",
       "16          avg_purchases_lag12   \n",
       "17          active_months_lag12   \n",
       "18                   category_4   \n",
       "19                      city_id   \n",
       "20                     state_id   \n",
       "21                   category_2   \n",
       "\n",
       "                                          Description  \n",
       "0                          Unique merchant identifier  \n",
       "1                        Merchant group (anonymized )  \n",
       "2   Unique identifier for merchant category (anony...  \n",
       "3               Merchant category group (anonymized )  \n",
       "4                                  anonymized measure  \n",
       "5                                  anonymized measure  \n",
       "6                                 anonymized category  \n",
       "7   Range of revenue (monetary units) in last acti...  \n",
       "8   Range of quantity of transactions in last acti...  \n",
       "9   Monthly average of revenue in last 3 months di...  \n",
       "10  Monthly average of transactions in last 3 mont...  \n",
       "11     Quantity of active months within last 3 months  \n",
       "12  Monthly average of revenue in last 6 months di...  \n",
       "13  Monthly average of transactions in last 6 mont...  \n",
       "14     Quantity of active months within last 6 months  \n",
       "15  Monthly average of revenue in last 12 months d...  \n",
       "16  Monthly average of transactions in last 12 mon...  \n",
       "17    Quantity of active months within last 12 months  \n",
       "18                                anonymized category  \n",
       "19                      City identifier (anonymized )  \n",
       "20                     State identifier (anonymized )  \n",
       "21                                anonymized category  "
      ]
     },
     "execution_count": 114,
     "metadata": {},
     "output_type": "execute_result"
    }
   ],
   "source": [
    "# View the explanation of each field in the data dictionary\n",
    "df = pd.read_excel('./Data_Dictionary.xlsx', header=2, sheet_name='merchant')\n",
    "df"
   ]
  },
  {
   "cell_type": "markdown",
   "id": "aa1da235-c6d0-46f6-a150-a2c7be92ba52",
   "metadata": {},
   "source": [
    "### 2.Data Exploration"
   ]
  },
  {
   "cell_type": "markdown",
   "id": "470e84e2-3029-4e7e-a6e2-5024a93c734f",
   "metadata": {},
   "source": [
    "- Correctness check"
   ]
  },
  {
   "cell_type": "markdown",
   "id": "58393987-24d9-405f-a40f-a106e3db554b",
   "metadata": {},
   "source": [
    "&emsp;&emsp;First is the calculation of the number of occurrences of the merchant id:"
   ]
  },
  {
   "cell_type": "code",
   "execution_count": 118,
   "id": "f6ea4e4b-d00c-4b83-94e0-313d05619d29",
   "metadata": {},
   "outputs": [
    {
     "name": "stdout",
     "output_type": "stream",
     "text": [
      "(334696, 22) 334633\n"
     ]
    }
   ],
   "source": [
    "print(merchant.shape, merchant['merchant_id'].nunique())"
   ]
  },
  {
   "cell_type": "markdown",
   "id": "3167b794-0ef9-4bcf-b034-20199f0fc26b",
   "metadata": {},
   "source": [
    "It can be seen that the table does not correspond to one piece of data for one id, and there are cases where a merchant has multiple records. In addition, since there are many merchant characteristics, here we can also simply verify whether the merchant data characteristics are consistent with the characteristics in the data dictionary:"
   ]
  },
  {
   "cell_type": "code",
   "execution_count": 117,
   "id": "645998da-8beb-447e-a54e-50a9749aa12f",
   "metadata": {},
   "outputs": [
    {
     "name": "stdout",
     "output_type": "stream",
     "text": [
      "[ True  True  True  True  True  True  True  True  True  True  True  True\n",
      "  True  True  True  True  True  True  True  True  True  True]\n"
     ]
    }
   ],
   "source": [
    "print(pd.Series(merchant.columns.tolist()).sort_values().values ==  pd.Series([va[0] for va in df.values]).sort_values().values)"
   ]
  },
  {
   "cell_type": "markdown",
   "id": "41d06196-7510-4c9a-a704-308920b7f630",
   "metadata": {},
   "source": [
    "It can be seen that the characteristics of the merchants are completely consistent."
   ]
  },
  {
   "cell_type": "markdown",
   "id": "36f213da-e21b-4e9f-9555-9b7534a270b8",
   "metadata": {},
   "source": [
    "- Missing value analysis"
   ]
  },
  {
   "cell_type": "code",
   "execution_count": 120,
   "id": "805690c4-cf4b-4be7-b8ad-e1772d9c41e9",
   "metadata": {},
   "outputs": [
    {
     "data": {
      "text/plain": [
       "merchant_id                        0\n",
       "merchant_group_id                  0\n",
       "merchant_category_id               0\n",
       "subsector_id                       0\n",
       "numerical_1                        0\n",
       "numerical_2                        0\n",
       "category_1                         0\n",
       "most_recent_sales_range            0\n",
       "most_recent_purchases_range        0\n",
       "avg_sales_lag3                    13\n",
       "avg_purchases_lag3                 0\n",
       "active_months_lag3                 0\n",
       "avg_sales_lag6                    13\n",
       "avg_purchases_lag6                 0\n",
       "active_months_lag6                 0\n",
       "avg_sales_lag12                   13\n",
       "avg_purchases_lag12                0\n",
       "active_months_lag12                0\n",
       "category_4                         0\n",
       "city_id                            0\n",
       "state_id                           0\n",
       "category_2                     11887\n",
       "dtype: int64"
      ]
     },
     "execution_count": 120,
     "metadata": {},
     "output_type": "execute_result"
    }
   ],
   "source": [
    "merchant.isnull().sum()"
   ]
  },
  {
   "cell_type": "markdown",
   "id": "7c97861b-9916-4214-8120-a662e50ba7f3",
   "metadata": {},
   "source": [
    "It can be found that there are many missing values in the second anonymous categorical variable, and the number of missing values in avg_sales_lag3/6/12 is the same. It is very likely that there are 13 merchants who have confirmed the three aspects of information at the same time. No other data is missing, and the data is relatively complete as a whole."
   ]
  },
  {
   "cell_type": "markdown",
   "id": "c1c0be4b-a51e-4d76-8072-ad740943ee1d",
   "metadata": {},
   "source": [
    " ### 3. Data Preprocessing"
   ]
  },
  {
   "cell_type": "markdown",
   "id": "0a792cfc-e3a1-45af-b144-b0fcc12a3adb",
   "metadata": {},
   "source": [
    "&emsp;&emsp;     Next, data preprocessing is performed on merchant data. Since feature engineering has not yet been performed, the preprocessing here is only some preliminary but necessary preprocessing that does not affect subsequent feature engineering, modeling or multi-table association."
   ]
  },
  {
   "cell_type": "markdown",
   "id": "9968175e-5113-4e1f-8811-7085adba3d2c",
   "metadata": {},
   "source": [
    "- Discrete/continuous field labeling"
   ]
  },
  {
   "cell_type": "markdown",
   "id": "969f0368-0aa6-4248-a9d8-5c8867f28bfa",
   "metadata": {},
   "source": [
    "&emsp;&emsp;Since there are both categorical variables and discrete variables in the characteristics of the merchant dataset,first divide different attribute characteristics according to the description of the fields:"
   ]
  },
  {
   "cell_type": "code",
   "execution_count": 121,
   "id": "b84eb74b-1695-43a2-9586-d7395ca2f71c",
   "metadata": {},
   "outputs": [],
   "source": [
    "category_cols = ['merchant_id', 'merchant_group_id', 'merchant_category_id',\n",
    "       'subsector_id', 'category_1',\n",
    "       'most_recent_sales_range', 'most_recent_purchases_range',\n",
    "       'category_4', 'city_id', 'state_id', 'category_2']\n",
    "numeric_cols = ['numerical_1', 'numerical_2',\n",
    "     'avg_sales_lag3', 'avg_purchases_lag3', 'active_months_lag3',\n",
    "       'avg_sales_lag6', 'avg_purchases_lag6', 'active_months_lag6',\n",
    "       'avg_sales_lag12', 'avg_purchases_lag12', 'active_months_lag12']\n",
    "\n",
    "# Check whether the features are completely divided\n",
    "assert len(category_cols) + len(numeric_cols) == merchant.shape[1]"
   ]
  },
  {
   "cell_type": "markdown",
   "id": "202ce461-db9a-46d4-9698-a9e2498032b8",
   "metadata": {},
   "source": [
    "- Discrete variable data case"
   ]
  },
  {
   "cell_type": "markdown",
   "id": "a6e9be58-229d-4ea6-8ed2-46b07ef5c79a",
   "metadata": {},
   "source": [
    "&emsp;&emsp;Check the current data situation of the discrete variable:"
   ]
  },
  {
   "cell_type": "code",
   "execution_count": 123,
   "id": "ff2d5b1c-cafa-456f-bdb6-1fa689341105",
   "metadata": {},
   "outputs": [
    {
     "data": {
      "text/plain": [
       "merchant_id                    334633\n",
       "merchant_group_id              109391\n",
       "merchant_category_id              324\n",
       "subsector_id                       41\n",
       "category_1                          2\n",
       "most_recent_sales_range             5\n",
       "most_recent_purchases_range         5\n",
       "category_4                          2\n",
       "city_id                           271\n",
       "state_id                           25\n",
       "category_2                          5\n",
       "dtype: int64"
      ]
     },
     "execution_count": 123,
     "metadata": {},
     "output_type": "execute_result"
    }
   ],
   "source": [
    "# View the value levels of categorical variables\n",
    "merchant[category_cols].nunique()"
   ]
  },
  {
   "cell_type": "code",
   "execution_count": 122,
   "id": "377e51cb-d048-4473-aabe-7607fe713848",
   "metadata": {},
   "outputs": [
    {
     "data": {
      "text/plain": [
       "merchant_id                     object\n",
       "merchant_group_id                int64\n",
       "merchant_category_id             int64\n",
       "subsector_id                     int64\n",
       "category_1                      object\n",
       "most_recent_sales_range         object\n",
       "most_recent_purchases_range     object\n",
       "category_4                      object\n",
       "city_id                          int64\n",
       "state_id                         int64\n",
       "category_2                     float64\n",
       "dtype: object"
      ]
     },
     "execution_count": 122,
     "metadata": {},
     "output_type": "execute_result"
    }
   ],
   "source": [
    "# View the current category of a categorical variable\n",
    "merchant[category_cols].dtypes"
   ]
  },
  {
   "cell_type": "code",
   "execution_count": 146,
   "id": "7d5dfaf6-6550-4246-8d86-cb3ea5bb1179",
   "metadata": {},
   "outputs": [
    {
     "data": {
      "text/plain": [
       "merchant_id                        0\n",
       "merchant_group_id                  0\n",
       "merchant_category_id               0\n",
       "subsector_id                       0\n",
       "category_1                         0\n",
       "most_recent_sales_range            0\n",
       "most_recent_purchases_range        0\n",
       "category_4                         0\n",
       "city_id                            0\n",
       "state_id                           0\n",
       "category_2                     11887\n",
       "dtype: int64"
      ]
     },
     "execution_count": 146,
     "metadata": {},
     "output_type": "execute_result"
    }
   ],
   "source": [
    "# View missing values for discrete variables\n",
    "merchant[category_cols].isnull().sum()"
   ]
  },
  {
   "cell_type": "markdown",
   "id": "7fafcdbe-8f6a-449f-bac4-80c15e7ca4e4",
   "metadata": {},
   "source": [
    "- Missing Value Labeling for Discrete Variables"
   ]
  },
  {
   "cell_type": "markdown",
   "id": "6a69ceb6-9315-4fd4-b2e0-b7f0e35a7949",
   "metadata": {},
   "source": [
    "&emsp;&emsp;Note that there are many missing values in category_2 in the discrete variable. Since the value level of this categorical variable is 1-5, the missing value can be marked as -1 first to facilitate subsequent data exploration:"
   ]
  },
  {
   "cell_type": "code",
   "execution_count": 148,
   "id": "dc16442c-20f9-48c2-972a-8acc81228983",
   "metadata": {},
   "outputs": [
    {
     "data": {
      "text/plain": [
       "array([ 1.,  5., nan,  2.,  3.,  4.])"
      ]
     },
     "execution_count": 148,
     "metadata": {},
     "output_type": "execute_result"
    }
   ],
   "source": [
    "merchant['category_2'].unique()"
   ]
  },
  {
   "cell_type": "code",
   "execution_count": 150,
   "id": "eb055378-751c-48d7-8e12-648c98966066",
   "metadata": {},
   "outputs": [],
   "source": [
    "merchant['category_2'] = merchant['category_2'].fillna(-1)"
   ]
  },
  {
   "cell_type": "markdown",
   "id": "feddd7c1-8e5c-44aa-a4ca-204a127bd0a5",
   "metadata": {},
   "source": [
    "- Discrete Variable Dictionary Encoding"
   ]
  },
  {
   "cell_type": "markdown",
   "id": "5e549f8d-2ba9-442f-bafb-43ce3aa80212",
   "metadata": {},
   "source": [
    "&emsp;&emsp;Next, the discrete variable is encoded in a dictionary, that is, the object type is numerically (integer) encoded in the sort order. For example, the value of the original category_1 is Y/N, and N is before Y after sorting. Therefore, when recoding, the value of N will be recoded to 0, and the value of Y will be recoded to 1. and so on."
   ]
  },
  {
   "cell_type": "markdown",
   "id": "26a59fd4-9a6f-4983-a89d-b39b1c1ea86c",
   "metadata": {},
   "source": [
    "&emsp;&emsp; There should be three types of variable types, namely continuous variables, nominal variables, and ordinal variables. Ordinal variables are also discrete variables, but they have numerical value meanings, such as the above-mentioned most_recent_purchases_range field, in the sales level A>B> C>D>E, the 5 value levels of this discrete variable have strict magnitude meaning, and this variable is called an ordered variable."
   ]
  },
  {
   "cell_type": "code",
   "execution_count": 139,
   "id": "b226d1b0-f27a-46c3-95e5-96a1c7a9b570",
   "metadata": {},
   "outputs": [],
   "source": [
    "# dictionary encoding function\n",
    "def change_object_cols(se):\n",
    "    value = se.unique().tolist()\n",
    "    value.sort()\n",
    "    return se.map(pd.Series(range(len(value)), index=value)).values"
   ]
  },
  {
   "cell_type": "markdown",
   "id": "d158f4c4-225e-4723-919b-5a74eb716700",
   "metadata": {},
   "source": [
    "Perform category conversion on the four object type columns in the merchant object:"
   ]
  },
  {
   "cell_type": "code",
   "execution_count": 145,
   "id": "4d8137b8-d079-418c-9e45-e40a657b2aa7",
   "metadata": {},
   "outputs": [],
   "source": [
    "for col in ['category_1', 'most_recent_sales_range', 'most_recent_purchases_range', 'category_4']:\n",
    "    merchant[col] = change_object_cols(merchant[col])"
   ]
  },
  {
   "cell_type": "markdown",
   "id": "b75c31d8-4da8-46a0-92d7-354565feb7b3",
   "metadata": {},
   "source": [
    "- Data Exploration for Continuous Variables"
   ]
  },
  {
   "cell_type": "code",
   "execution_count": 151,
   "id": "60e297da-715c-4f87-a128-7853d9baf22b",
   "metadata": {},
   "outputs": [
    {
     "data": {
      "text/plain": [
       "numerical_1            float64\n",
       "numerical_2            float64\n",
       "avg_sales_lag3         float64\n",
       "avg_purchases_lag3     float64\n",
       "active_months_lag3       int64\n",
       "avg_sales_lag6         float64\n",
       "avg_purchases_lag6     float64\n",
       "active_months_lag6       int64\n",
       "avg_sales_lag12        float64\n",
       "avg_purchases_lag12    float64\n",
       "active_months_lag12      int64\n",
       "dtype: object"
      ]
     },
     "execution_count": 151,
     "metadata": {},
     "output_type": "execute_result"
    }
   ],
   "source": [
    "# View categories of continuous variables\n",
    "merchant[numeric_cols].dtypes"
   ]
  },
  {
   "cell_type": "code",
   "execution_count": 155,
   "id": "33516fa2-e820-4706-bee4-7212b2348876",
   "metadata": {},
   "outputs": [
    {
     "data": {
      "text/plain": [
       "numerical_1             0\n",
       "numerical_2             0\n",
       "avg_sales_lag3         13\n",
       "avg_purchases_lag3      0\n",
       "active_months_lag3      0\n",
       "avg_sales_lag6         13\n",
       "avg_purchases_lag6      0\n",
       "active_months_lag6      0\n",
       "avg_sales_lag12        13\n",
       "avg_purchases_lag12     0\n",
       "active_months_lag12     0\n",
       "dtype: int64"
      ]
     },
     "execution_count": 155,
     "metadata": {},
     "output_type": "execute_result"
    }
   ],
   "source": [
    "# Missing Value Cases for Continuous Variables\n",
    "merchant[numeric_cols].isnull().sum()"
   ]
  },
  {
   "cell_type": "code",
   "execution_count": 156,
   "id": "c669b86f-88e6-4209-9f24-5e4f50014876",
   "metadata": {},
   "outputs": [
    {
     "data": {
      "text/html": [
       "<div>\n",
       "<style scoped>\n",
       "    .dataframe tbody tr th:only-of-type {\n",
       "        vertical-align: middle;\n",
       "    }\n",
       "\n",
       "    .dataframe tbody tr th {\n",
       "        vertical-align: top;\n",
       "    }\n",
       "\n",
       "    .dataframe thead th {\n",
       "        text-align: right;\n",
       "    }\n",
       "</style>\n",
       "<table border=\"1\" class=\"dataframe\">\n",
       "  <thead>\n",
       "    <tr style=\"text-align: right;\">\n",
       "      <th></th>\n",
       "      <th>numerical_1</th>\n",
       "      <th>numerical_2</th>\n",
       "      <th>avg_sales_lag3</th>\n",
       "      <th>avg_purchases_lag3</th>\n",
       "      <th>active_months_lag3</th>\n",
       "      <th>avg_sales_lag6</th>\n",
       "      <th>avg_purchases_lag6</th>\n",
       "      <th>active_months_lag6</th>\n",
       "      <th>avg_sales_lag12</th>\n",
       "      <th>avg_purchases_lag12</th>\n",
       "      <th>active_months_lag12</th>\n",
       "    </tr>\n",
       "  </thead>\n",
       "  <tbody>\n",
       "    <tr>\n",
       "      <th>count</th>\n",
       "      <td>334696.000000</td>\n",
       "      <td>334696.000000</td>\n",
       "      <td>334683.000000</td>\n",
       "      <td>3.346960e+05</td>\n",
       "      <td>334696.000000</td>\n",
       "      <td>3.346830e+05</td>\n",
       "      <td>3.346960e+05</td>\n",
       "      <td>334696.000000</td>\n",
       "      <td>3.346830e+05</td>\n",
       "      <td>3.346960e+05</td>\n",
       "      <td>334696.000000</td>\n",
       "    </tr>\n",
       "    <tr>\n",
       "      <th>mean</th>\n",
       "      <td>0.011476</td>\n",
       "      <td>0.008103</td>\n",
       "      <td>13.832993</td>\n",
       "      <td>inf</td>\n",
       "      <td>2.994108</td>\n",
       "      <td>2.165079e+01</td>\n",
       "      <td>inf</td>\n",
       "      <td>5.947397</td>\n",
       "      <td>2.522771e+01</td>\n",
       "      <td>inf</td>\n",
       "      <td>11.599335</td>\n",
       "    </tr>\n",
       "    <tr>\n",
       "      <th>std</th>\n",
       "      <td>1.098154</td>\n",
       "      <td>1.070497</td>\n",
       "      <td>2395.489999</td>\n",
       "      <td>NaN</td>\n",
       "      <td>0.095247</td>\n",
       "      <td>3.947108e+03</td>\n",
       "      <td>NaN</td>\n",
       "      <td>0.394936</td>\n",
       "      <td>5.251842e+03</td>\n",
       "      <td>NaN</td>\n",
       "      <td>1.520138</td>\n",
       "    </tr>\n",
       "    <tr>\n",
       "      <th>min</th>\n",
       "      <td>-0.057471</td>\n",
       "      <td>-0.057471</td>\n",
       "      <td>-82.130000</td>\n",
       "      <td>3.334953e-01</td>\n",
       "      <td>1.000000</td>\n",
       "      <td>-8.213000e+01</td>\n",
       "      <td>1.670447e-01</td>\n",
       "      <td>1.000000</td>\n",
       "      <td>-8.213000e+01</td>\n",
       "      <td>9.832954e-02</td>\n",
       "      <td>1.000000</td>\n",
       "    </tr>\n",
       "    <tr>\n",
       "      <th>25%</th>\n",
       "      <td>-0.057471</td>\n",
       "      <td>-0.057471</td>\n",
       "      <td>0.880000</td>\n",
       "      <td>9.236499e-01</td>\n",
       "      <td>3.000000</td>\n",
       "      <td>8.500000e-01</td>\n",
       "      <td>9.022475e-01</td>\n",
       "      <td>6.000000</td>\n",
       "      <td>8.500000e-01</td>\n",
       "      <td>8.983333e-01</td>\n",
       "      <td>12.000000</td>\n",
       "    </tr>\n",
       "    <tr>\n",
       "      <th>50%</th>\n",
       "      <td>-0.057471</td>\n",
       "      <td>-0.057471</td>\n",
       "      <td>1.000000</td>\n",
       "      <td>1.016667e+00</td>\n",
       "      <td>3.000000</td>\n",
       "      <td>1.010000e+00</td>\n",
       "      <td>1.026961e+00</td>\n",
       "      <td>6.000000</td>\n",
       "      <td>1.020000e+00</td>\n",
       "      <td>1.043361e+00</td>\n",
       "      <td>12.000000</td>\n",
       "    </tr>\n",
       "    <tr>\n",
       "      <th>75%</th>\n",
       "      <td>-0.047556</td>\n",
       "      <td>-0.047556</td>\n",
       "      <td>1.160000</td>\n",
       "      <td>1.146522e+00</td>\n",
       "      <td>3.000000</td>\n",
       "      <td>1.230000e+00</td>\n",
       "      <td>1.215575e+00</td>\n",
       "      <td>6.000000</td>\n",
       "      <td>1.290000e+00</td>\n",
       "      <td>1.266480e+00</td>\n",
       "      <td>12.000000</td>\n",
       "    </tr>\n",
       "    <tr>\n",
       "      <th>max</th>\n",
       "      <td>183.735111</td>\n",
       "      <td>182.079322</td>\n",
       "      <td>851844.640000</td>\n",
       "      <td>inf</td>\n",
       "      <td>3.000000</td>\n",
       "      <td>1.513959e+06</td>\n",
       "      <td>inf</td>\n",
       "      <td>6.000000</td>\n",
       "      <td>2.567408e+06</td>\n",
       "      <td>inf</td>\n",
       "      <td>12.000000</td>\n",
       "    </tr>\n",
       "  </tbody>\n",
       "</table>\n",
       "</div>"
      ],
      "text/plain": [
       "         numerical_1    numerical_2  avg_sales_lag3  avg_purchases_lag3  \\\n",
       "count  334696.000000  334696.000000   334683.000000        3.346960e+05   \n",
       "mean        0.011476       0.008103       13.832993                 inf   \n",
       "std         1.098154       1.070497     2395.489999                 NaN   \n",
       "min        -0.057471      -0.057471      -82.130000        3.334953e-01   \n",
       "25%        -0.057471      -0.057471        0.880000        9.236499e-01   \n",
       "50%        -0.057471      -0.057471        1.000000        1.016667e+00   \n",
       "75%        -0.047556      -0.047556        1.160000        1.146522e+00   \n",
       "max       183.735111     182.079322   851844.640000                 inf   \n",
       "\n",
       "       active_months_lag3  avg_sales_lag6  avg_purchases_lag6  \\\n",
       "count       334696.000000    3.346830e+05        3.346960e+05   \n",
       "mean             2.994108    2.165079e+01                 inf   \n",
       "std              0.095247    3.947108e+03                 NaN   \n",
       "min              1.000000   -8.213000e+01        1.670447e-01   \n",
       "25%              3.000000    8.500000e-01        9.022475e-01   \n",
       "50%              3.000000    1.010000e+00        1.026961e+00   \n",
       "75%              3.000000    1.230000e+00        1.215575e+00   \n",
       "max              3.000000    1.513959e+06                 inf   \n",
       "\n",
       "       active_months_lag6  avg_sales_lag12  avg_purchases_lag12  \\\n",
       "count       334696.000000     3.346830e+05         3.346960e+05   \n",
       "mean             5.947397     2.522771e+01                  inf   \n",
       "std              0.394936     5.251842e+03                  NaN   \n",
       "min              1.000000    -8.213000e+01         9.832954e-02   \n",
       "25%              6.000000     8.500000e-01         8.983333e-01   \n",
       "50%              6.000000     1.020000e+00         1.043361e+00   \n",
       "75%              6.000000     1.290000e+00         1.266480e+00   \n",
       "max              6.000000     2.567408e+06                  inf   \n",
       "\n",
       "       active_months_lag12  \n",
       "count        334696.000000  \n",
       "mean             11.599335  \n",
       "std               1.520138  \n",
       "min               1.000000  \n",
       "25%              12.000000  \n",
       "50%              12.000000  \n",
       "75%              12.000000  \n",
       "max              12.000000  "
      ]
     },
     "execution_count": 156,
     "metadata": {},
     "output_type": "execute_result"
    }
   ],
   "source": [
    "# Looking at the overall situation of continuous variables\n",
    "merchant[numeric_cols].describe()"
   ]
  },
  {
   "cell_type": "markdown",
   "id": "4c721b5b-e605-4606-82eb-5b5f0c0578ea",
   "metadata": {},
   "source": [
    "It is found that there are some missing values in continuous variables, and some continuous variables also have infinite value inf, which needs to be dealt with simply."
   ]
  },
  {
   "cell_type": "markdown",
   "id": "f6ccbd22-382d-4cb0-bafb-ec70272910aa",
   "metadata": {},
   "source": [
    "- infinite value processing"
   ]
  },
  {
   "cell_type": "markdown",
   "id": "2fdf8e41-3c73-48db-96b1-24e0579d38c1",
   "metadata": {},
   "source": [
    "&emsp;&emsp; Modify it in a manner similar to ceiling capping, by changing inf to the largest explicit value."
   ]
  },
  {
   "cell_type": "code",
   "execution_count": 159,
   "id": "bbe2ee28-f252-4130-8fc6-9cce4620a623",
   "metadata": {},
   "outputs": [],
   "source": [
    "inf_cols = ['avg_purchases_lag3', 'avg_purchases_lag6', 'avg_purchases_lag12']\n",
    "merchant[inf_cols] = merchant[inf_cols].replace(np.inf, merchant[inf_cols].replace(np.inf, -99).max().max())"
   ]
  },
  {
   "cell_type": "code",
   "execution_count": 160,
   "id": "55ca2a74-950f-40a5-bea4-a8f47d8a96e7",
   "metadata": {},
   "outputs": [
    {
     "data": {
      "text/html": [
       "<div>\n",
       "<style scoped>\n",
       "    .dataframe tbody tr th:only-of-type {\n",
       "        vertical-align: middle;\n",
       "    }\n",
       "\n",
       "    .dataframe tbody tr th {\n",
       "        vertical-align: top;\n",
       "    }\n",
       "\n",
       "    .dataframe thead th {\n",
       "        text-align: right;\n",
       "    }\n",
       "</style>\n",
       "<table border=\"1\" class=\"dataframe\">\n",
       "  <thead>\n",
       "    <tr style=\"text-align: right;\">\n",
       "      <th></th>\n",
       "      <th>numerical_1</th>\n",
       "      <th>numerical_2</th>\n",
       "      <th>avg_sales_lag3</th>\n",
       "      <th>avg_purchases_lag3</th>\n",
       "      <th>active_months_lag3</th>\n",
       "      <th>avg_sales_lag6</th>\n",
       "      <th>avg_purchases_lag6</th>\n",
       "      <th>active_months_lag6</th>\n",
       "      <th>avg_sales_lag12</th>\n",
       "      <th>avg_purchases_lag12</th>\n",
       "      <th>active_months_lag12</th>\n",
       "    </tr>\n",
       "  </thead>\n",
       "  <tbody>\n",
       "    <tr>\n",
       "      <th>count</th>\n",
       "      <td>334696.000000</td>\n",
       "      <td>334696.000000</td>\n",
       "      <td>334683.000000</td>\n",
       "      <td>334696.000000</td>\n",
       "      <td>334696.000000</td>\n",
       "      <td>3.346830e+05</td>\n",
       "      <td>334696.000000</td>\n",
       "      <td>334696.000000</td>\n",
       "      <td>3.346830e+05</td>\n",
       "      <td>334696.000000</td>\n",
       "      <td>334696.000000</td>\n",
       "    </tr>\n",
       "    <tr>\n",
       "      <th>mean</th>\n",
       "      <td>0.011476</td>\n",
       "      <td>0.008103</td>\n",
       "      <td>13.832993</td>\n",
       "      <td>2.145143</td>\n",
       "      <td>2.994108</td>\n",
       "      <td>2.165079e+01</td>\n",
       "      <td>2.441947</td>\n",
       "      <td>5.947397</td>\n",
       "      <td>2.522771e+01</td>\n",
       "      <td>2.633572</td>\n",
       "      <td>11.599335</td>\n",
       "    </tr>\n",
       "    <tr>\n",
       "      <th>std</th>\n",
       "      <td>1.098154</td>\n",
       "      <td>1.070497</td>\n",
       "      <td>2395.489999</td>\n",
       "      <td>213.955844</td>\n",
       "      <td>0.095247</td>\n",
       "      <td>3.947108e+03</td>\n",
       "      <td>209.439373</td>\n",
       "      <td>0.394936</td>\n",
       "      <td>5.251842e+03</td>\n",
       "      <td>205.206198</td>\n",
       "      <td>1.520138</td>\n",
       "    </tr>\n",
       "    <tr>\n",
       "      <th>min</th>\n",
       "      <td>-0.057471</td>\n",
       "      <td>-0.057471</td>\n",
       "      <td>-82.130000</td>\n",
       "      <td>0.333495</td>\n",
       "      <td>1.000000</td>\n",
       "      <td>-8.213000e+01</td>\n",
       "      <td>0.167045</td>\n",
       "      <td>1.000000</td>\n",
       "      <td>-8.213000e+01</td>\n",
       "      <td>0.098330</td>\n",
       "      <td>1.000000</td>\n",
       "    </tr>\n",
       "    <tr>\n",
       "      <th>25%</th>\n",
       "      <td>-0.057471</td>\n",
       "      <td>-0.057471</td>\n",
       "      <td>0.880000</td>\n",
       "      <td>0.923650</td>\n",
       "      <td>3.000000</td>\n",
       "      <td>8.500000e-01</td>\n",
       "      <td>0.902247</td>\n",
       "      <td>6.000000</td>\n",
       "      <td>8.500000e-01</td>\n",
       "      <td>0.898333</td>\n",
       "      <td>12.000000</td>\n",
       "    </tr>\n",
       "    <tr>\n",
       "      <th>50%</th>\n",
       "      <td>-0.057471</td>\n",
       "      <td>-0.057471</td>\n",
       "      <td>1.000000</td>\n",
       "      <td>1.016667</td>\n",
       "      <td>3.000000</td>\n",
       "      <td>1.010000e+00</td>\n",
       "      <td>1.026961</td>\n",
       "      <td>6.000000</td>\n",
       "      <td>1.020000e+00</td>\n",
       "      <td>1.043361</td>\n",
       "      <td>12.000000</td>\n",
       "    </tr>\n",
       "    <tr>\n",
       "      <th>75%</th>\n",
       "      <td>-0.047556</td>\n",
       "      <td>-0.047556</td>\n",
       "      <td>1.160000</td>\n",
       "      <td>1.146522</td>\n",
       "      <td>3.000000</td>\n",
       "      <td>1.230000e+00</td>\n",
       "      <td>1.215575</td>\n",
       "      <td>6.000000</td>\n",
       "      <td>1.290000e+00</td>\n",
       "      <td>1.266480</td>\n",
       "      <td>12.000000</td>\n",
       "    </tr>\n",
       "    <tr>\n",
       "      <th>max</th>\n",
       "      <td>183.735111</td>\n",
       "      <td>182.079322</td>\n",
       "      <td>851844.640000</td>\n",
       "      <td>61851.333333</td>\n",
       "      <td>3.000000</td>\n",
       "      <td>1.513959e+06</td>\n",
       "      <td>61851.333333</td>\n",
       "      <td>6.000000</td>\n",
       "      <td>2.567408e+06</td>\n",
       "      <td>61851.333333</td>\n",
       "      <td>12.000000</td>\n",
       "    </tr>\n",
       "  </tbody>\n",
       "</table>\n",
       "</div>"
      ],
      "text/plain": [
       "         numerical_1    numerical_2  avg_sales_lag3  avg_purchases_lag3  \\\n",
       "count  334696.000000  334696.000000   334683.000000       334696.000000   \n",
       "mean        0.011476       0.008103       13.832993            2.145143   \n",
       "std         1.098154       1.070497     2395.489999          213.955844   \n",
       "min        -0.057471      -0.057471      -82.130000            0.333495   \n",
       "25%        -0.057471      -0.057471        0.880000            0.923650   \n",
       "50%        -0.057471      -0.057471        1.000000            1.016667   \n",
       "75%        -0.047556      -0.047556        1.160000            1.146522   \n",
       "max       183.735111     182.079322   851844.640000        61851.333333   \n",
       "\n",
       "       active_months_lag3  avg_sales_lag6  avg_purchases_lag6  \\\n",
       "count       334696.000000    3.346830e+05       334696.000000   \n",
       "mean             2.994108    2.165079e+01            2.441947   \n",
       "std              0.095247    3.947108e+03          209.439373   \n",
       "min              1.000000   -8.213000e+01            0.167045   \n",
       "25%              3.000000    8.500000e-01            0.902247   \n",
       "50%              3.000000    1.010000e+00            1.026961   \n",
       "75%              3.000000    1.230000e+00            1.215575   \n",
       "max              3.000000    1.513959e+06        61851.333333   \n",
       "\n",
       "       active_months_lag6  avg_sales_lag12  avg_purchases_lag12  \\\n",
       "count       334696.000000     3.346830e+05        334696.000000   \n",
       "mean             5.947397     2.522771e+01             2.633572   \n",
       "std              0.394936     5.251842e+03           205.206198   \n",
       "min              1.000000    -8.213000e+01             0.098330   \n",
       "25%              6.000000     8.500000e-01             0.898333   \n",
       "50%              6.000000     1.020000e+00             1.043361   \n",
       "75%              6.000000     1.290000e+00             1.266480   \n",
       "max              6.000000     2.567408e+06         61851.333333   \n",
       "\n",
       "       active_months_lag12  \n",
       "count        334696.000000  \n",
       "mean             11.599335  \n",
       "std               1.520138  \n",
       "min               1.000000  \n",
       "25%              12.000000  \n",
       "50%              12.000000  \n",
       "75%              12.000000  \n",
       "max              12.000000  "
      ]
     },
     "execution_count": 160,
     "metadata": {},
     "output_type": "execute_result"
    }
   ],
   "source": [
    "merchant[numeric_cols].describe()"
   ]
  },
  {
   "cell_type": "markdown",
   "id": "092db48b-9d53-4969-a193-9dec672c8ae4",
   "metadata": {},
   "source": [
    "- Missing value "
   ]
  },
  {
   "cell_type": "markdown",
   "id": "ded36a33-3b8f-4906-9561-3b735c726c9f",
   "metadata": {},
   "source": [
    "&emsp;&emsp;There are few missing data in this dataset, and there are only 13 missing values of continuous features among the 330,000 pieces of data. Here, the mean value is simply used for filling processing, and subsequent optimization processing is performed if necessary."
   ]
  },
  {
   "cell_type": "code",
   "execution_count": 161,
   "id": "126b8385-3d01-46ce-a465-2d617e3a39a4",
   "metadata": {},
   "outputs": [],
   "source": [
    "for col in numeric_cols:\n",
    "    merchant[col] = merchant[col].fillna(merchant[col].mean())"
   ]
  },
  {
   "cell_type": "code",
   "execution_count": 162,
   "id": "0454e356-4dd7-4f29-b8c9-23aab1329992",
   "metadata": {},
   "outputs": [
    {
     "data": {
      "text/html": [
       "<div>\n",
       "<style scoped>\n",
       "    .dataframe tbody tr th:only-of-type {\n",
       "        vertical-align: middle;\n",
       "    }\n",
       "\n",
       "    .dataframe tbody tr th {\n",
       "        vertical-align: top;\n",
       "    }\n",
       "\n",
       "    .dataframe thead th {\n",
       "        text-align: right;\n",
       "    }\n",
       "</style>\n",
       "<table border=\"1\" class=\"dataframe\">\n",
       "  <thead>\n",
       "    <tr style=\"text-align: right;\">\n",
       "      <th></th>\n",
       "      <th>numerical_1</th>\n",
       "      <th>numerical_2</th>\n",
       "      <th>avg_sales_lag3</th>\n",
       "      <th>avg_purchases_lag3</th>\n",
       "      <th>active_months_lag3</th>\n",
       "      <th>avg_sales_lag6</th>\n",
       "      <th>avg_purchases_lag6</th>\n",
       "      <th>active_months_lag6</th>\n",
       "      <th>avg_sales_lag12</th>\n",
       "      <th>avg_purchases_lag12</th>\n",
       "      <th>active_months_lag12</th>\n",
       "    </tr>\n",
       "  </thead>\n",
       "  <tbody>\n",
       "    <tr>\n",
       "      <th>count</th>\n",
       "      <td>334696.000000</td>\n",
       "      <td>334696.000000</td>\n",
       "      <td>334696.000000</td>\n",
       "      <td>334696.000000</td>\n",
       "      <td>334696.000000</td>\n",
       "      <td>3.346960e+05</td>\n",
       "      <td>334696.000000</td>\n",
       "      <td>334696.000000</td>\n",
       "      <td>3.346960e+05</td>\n",
       "      <td>334696.000000</td>\n",
       "      <td>334696.000000</td>\n",
       "    </tr>\n",
       "    <tr>\n",
       "      <th>mean</th>\n",
       "      <td>0.011476</td>\n",
       "      <td>0.008103</td>\n",
       "      <td>13.832993</td>\n",
       "      <td>2.145143</td>\n",
       "      <td>2.994108</td>\n",
       "      <td>2.165079e+01</td>\n",
       "      <td>2.441947</td>\n",
       "      <td>5.947397</td>\n",
       "      <td>2.522771e+01</td>\n",
       "      <td>2.633572</td>\n",
       "      <td>11.599335</td>\n",
       "    </tr>\n",
       "    <tr>\n",
       "      <th>std</th>\n",
       "      <td>1.098154</td>\n",
       "      <td>1.070497</td>\n",
       "      <td>2395.443476</td>\n",
       "      <td>213.955844</td>\n",
       "      <td>0.095247</td>\n",
       "      <td>3.947031e+03</td>\n",
       "      <td>209.439373</td>\n",
       "      <td>0.394936</td>\n",
       "      <td>5.251740e+03</td>\n",
       "      <td>205.206198</td>\n",
       "      <td>1.520138</td>\n",
       "    </tr>\n",
       "    <tr>\n",
       "      <th>min</th>\n",
       "      <td>-0.057471</td>\n",
       "      <td>-0.057471</td>\n",
       "      <td>-82.130000</td>\n",
       "      <td>0.333495</td>\n",
       "      <td>1.000000</td>\n",
       "      <td>-8.213000e+01</td>\n",
       "      <td>0.167045</td>\n",
       "      <td>1.000000</td>\n",
       "      <td>-8.213000e+01</td>\n",
       "      <td>0.098330</td>\n",
       "      <td>1.000000</td>\n",
       "    </tr>\n",
       "    <tr>\n",
       "      <th>25%</th>\n",
       "      <td>-0.057471</td>\n",
       "      <td>-0.057471</td>\n",
       "      <td>0.880000</td>\n",
       "      <td>0.923650</td>\n",
       "      <td>3.000000</td>\n",
       "      <td>8.500000e-01</td>\n",
       "      <td>0.902247</td>\n",
       "      <td>6.000000</td>\n",
       "      <td>8.500000e-01</td>\n",
       "      <td>0.898333</td>\n",
       "      <td>12.000000</td>\n",
       "    </tr>\n",
       "    <tr>\n",
       "      <th>50%</th>\n",
       "      <td>-0.057471</td>\n",
       "      <td>-0.057471</td>\n",
       "      <td>1.000000</td>\n",
       "      <td>1.016667</td>\n",
       "      <td>3.000000</td>\n",
       "      <td>1.010000e+00</td>\n",
       "      <td>1.026961</td>\n",
       "      <td>6.000000</td>\n",
       "      <td>1.020000e+00</td>\n",
       "      <td>1.043361</td>\n",
       "      <td>12.000000</td>\n",
       "    </tr>\n",
       "    <tr>\n",
       "      <th>75%</th>\n",
       "      <td>-0.047556</td>\n",
       "      <td>-0.047556</td>\n",
       "      <td>1.160000</td>\n",
       "      <td>1.146522</td>\n",
       "      <td>3.000000</td>\n",
       "      <td>1.230000e+00</td>\n",
       "      <td>1.215575</td>\n",
       "      <td>6.000000</td>\n",
       "      <td>1.290000e+00</td>\n",
       "      <td>1.266480</td>\n",
       "      <td>12.000000</td>\n",
       "    </tr>\n",
       "    <tr>\n",
       "      <th>max</th>\n",
       "      <td>183.735111</td>\n",
       "      <td>182.079322</td>\n",
       "      <td>851844.640000</td>\n",
       "      <td>61851.333333</td>\n",
       "      <td>3.000000</td>\n",
       "      <td>1.513959e+06</td>\n",
       "      <td>61851.333333</td>\n",
       "      <td>6.000000</td>\n",
       "      <td>2.567408e+06</td>\n",
       "      <td>61851.333333</td>\n",
       "      <td>12.000000</td>\n",
       "    </tr>\n",
       "  </tbody>\n",
       "</table>\n",
       "</div>"
      ],
      "text/plain": [
       "         numerical_1    numerical_2  avg_sales_lag3  avg_purchases_lag3  \\\n",
       "count  334696.000000  334696.000000   334696.000000       334696.000000   \n",
       "mean        0.011476       0.008103       13.832993            2.145143   \n",
       "std         1.098154       1.070497     2395.443476          213.955844   \n",
       "min        -0.057471      -0.057471      -82.130000            0.333495   \n",
       "25%        -0.057471      -0.057471        0.880000            0.923650   \n",
       "50%        -0.057471      -0.057471        1.000000            1.016667   \n",
       "75%        -0.047556      -0.047556        1.160000            1.146522   \n",
       "max       183.735111     182.079322   851844.640000        61851.333333   \n",
       "\n",
       "       active_months_lag3  avg_sales_lag6  avg_purchases_lag6  \\\n",
       "count       334696.000000    3.346960e+05       334696.000000   \n",
       "mean             2.994108    2.165079e+01            2.441947   \n",
       "std              0.095247    3.947031e+03          209.439373   \n",
       "min              1.000000   -8.213000e+01            0.167045   \n",
       "25%              3.000000    8.500000e-01            0.902247   \n",
       "50%              3.000000    1.010000e+00            1.026961   \n",
       "75%              3.000000    1.230000e+00            1.215575   \n",
       "max              3.000000    1.513959e+06        61851.333333   \n",
       "\n",
       "       active_months_lag6  avg_sales_lag12  avg_purchases_lag12  \\\n",
       "count       334696.000000     3.346960e+05        334696.000000   \n",
       "mean             5.947397     2.522771e+01             2.633572   \n",
       "std              0.394936     5.251740e+03           205.206198   \n",
       "min              1.000000    -8.213000e+01             0.098330   \n",
       "25%              6.000000     8.500000e-01             0.898333   \n",
       "50%              6.000000     1.020000e+00             1.043361   \n",
       "75%              6.000000     1.290000e+00             1.266480   \n",
       "max              6.000000     2.567408e+06         61851.333333   \n",
       "\n",
       "       active_months_lag12  \n",
       "count        334696.000000  \n",
       "mean             11.599335  \n",
       "std               1.520138  \n",
       "min               1.000000  \n",
       "25%              12.000000  \n",
       "50%              12.000000  \n",
       "75%              12.000000  \n",
       "max              12.000000  "
      ]
     },
     "execution_count": 162,
     "metadata": {},
     "output_type": "execute_result"
    }
   ],
   "source": [
    "merchant[numeric_cols].describe()"
   ]
  },
  {
   "cell_type": "markdown",
   "id": "a5cb3e0d-b796-4644-85d8-f914e4ea1372",
   "metadata": {},
   "source": [
    "## Credit Card Transaction"
   ]
  },
  {
   "cell_type": "markdown",
   "id": "f3b82897-d95e-44a3-a538-e17e5b114260",
   "metadata": {},
   "source": [
    "### 1.Data Interpretation and Validation"
   ]
  },
  {
   "cell_type": "markdown",
   "id": "54391bcd-29b6-4311-9621-6fb5d2c55d1b",
   "metadata": {},
   "source": [
    "&emsp;&emsp;Credit card transaction records include two datasets, historical_transactions and new_merchant_transactions. The fields of the two data sets are similar, except that the credit card consumption in different time intervals is recorded."
   ]
  },
  {
   "cell_type": "markdown",
   "id": "7b68f268-5de7-4bda-8ffd-d012ea06857d",
   "metadata": {},
   "source": [
    "- historical_transactions："
   ]
  },
  {
   "cell_type": "code",
   "execution_count": 163,
   "id": "b1b67369-8754-4f9f-a9cf-0a7e0e2d6075",
   "metadata": {},
   "outputs": [],
   "source": [
    "history_transaction = pd.read_csv('./historical_transactions.csv', header=0)"
   ]
  },
  {
   "cell_type": "code",
   "execution_count": 164,
   "id": "169907fd-5807-41ff-97ca-fc454d8045d7",
   "metadata": {},
   "outputs": [
    {
     "data": {
      "text/html": [
       "<div>\n",
       "<style scoped>\n",
       "    .dataframe tbody tr th:only-of-type {\n",
       "        vertical-align: middle;\n",
       "    }\n",
       "\n",
       "    .dataframe tbody tr th {\n",
       "        vertical-align: top;\n",
       "    }\n",
       "\n",
       "    .dataframe thead th {\n",
       "        text-align: right;\n",
       "    }\n",
       "</style>\n",
       "<table border=\"1\" class=\"dataframe\">\n",
       "  <thead>\n",
       "    <tr style=\"text-align: right;\">\n",
       "      <th></th>\n",
       "      <th>authorized_flag</th>\n",
       "      <th>card_id</th>\n",
       "      <th>city_id</th>\n",
       "      <th>category_1</th>\n",
       "      <th>installments</th>\n",
       "      <th>category_3</th>\n",
       "      <th>merchant_category_id</th>\n",
       "      <th>merchant_id</th>\n",
       "      <th>month_lag</th>\n",
       "      <th>purchase_amount</th>\n",
       "      <th>purchase_date</th>\n",
       "      <th>category_2</th>\n",
       "      <th>state_id</th>\n",
       "      <th>subsector_id</th>\n",
       "    </tr>\n",
       "  </thead>\n",
       "  <tbody>\n",
       "    <tr>\n",
       "      <th>0</th>\n",
       "      <td>Y</td>\n",
       "      <td>C_ID_4e6213e9bc</td>\n",
       "      <td>88</td>\n",
       "      <td>N</td>\n",
       "      <td>0</td>\n",
       "      <td>A</td>\n",
       "      <td>80</td>\n",
       "      <td>M_ID_e020e9b302</td>\n",
       "      <td>-8</td>\n",
       "      <td>-0.703331</td>\n",
       "      <td>2017-06-25 15:33:07</td>\n",
       "      <td>1.0</td>\n",
       "      <td>16</td>\n",
       "      <td>37</td>\n",
       "    </tr>\n",
       "    <tr>\n",
       "      <th>1</th>\n",
       "      <td>Y</td>\n",
       "      <td>C_ID_4e6213e9bc</td>\n",
       "      <td>88</td>\n",
       "      <td>N</td>\n",
       "      <td>0</td>\n",
       "      <td>A</td>\n",
       "      <td>367</td>\n",
       "      <td>M_ID_86ec983688</td>\n",
       "      <td>-7</td>\n",
       "      <td>-0.733128</td>\n",
       "      <td>2017-07-15 12:10:45</td>\n",
       "      <td>1.0</td>\n",
       "      <td>16</td>\n",
       "      <td>16</td>\n",
       "    </tr>\n",
       "    <tr>\n",
       "      <th>2</th>\n",
       "      <td>Y</td>\n",
       "      <td>C_ID_4e6213e9bc</td>\n",
       "      <td>88</td>\n",
       "      <td>N</td>\n",
       "      <td>0</td>\n",
       "      <td>A</td>\n",
       "      <td>80</td>\n",
       "      <td>M_ID_979ed661fc</td>\n",
       "      <td>-6</td>\n",
       "      <td>-0.720386</td>\n",
       "      <td>2017-08-09 22:04:29</td>\n",
       "      <td>1.0</td>\n",
       "      <td>16</td>\n",
       "      <td>37</td>\n",
       "    </tr>\n",
       "    <tr>\n",
       "      <th>3</th>\n",
       "      <td>Y</td>\n",
       "      <td>C_ID_4e6213e9bc</td>\n",
       "      <td>88</td>\n",
       "      <td>N</td>\n",
       "      <td>0</td>\n",
       "      <td>A</td>\n",
       "      <td>560</td>\n",
       "      <td>M_ID_e6d5ae8ea6</td>\n",
       "      <td>-5</td>\n",
       "      <td>-0.735352</td>\n",
       "      <td>2017-09-02 10:06:26</td>\n",
       "      <td>1.0</td>\n",
       "      <td>16</td>\n",
       "      <td>34</td>\n",
       "    </tr>\n",
       "    <tr>\n",
       "      <th>4</th>\n",
       "      <td>Y</td>\n",
       "      <td>C_ID_4e6213e9bc</td>\n",
       "      <td>88</td>\n",
       "      <td>N</td>\n",
       "      <td>0</td>\n",
       "      <td>A</td>\n",
       "      <td>80</td>\n",
       "      <td>M_ID_e020e9b302</td>\n",
       "      <td>-11</td>\n",
       "      <td>-0.722865</td>\n",
       "      <td>2017-03-10 01:14:19</td>\n",
       "      <td>1.0</td>\n",
       "      <td>16</td>\n",
       "      <td>37</td>\n",
       "    </tr>\n",
       "  </tbody>\n",
       "</table>\n",
       "</div>"
      ],
      "text/plain": [
       "  authorized_flag          card_id  city_id category_1  installments  \\\n",
       "0               Y  C_ID_4e6213e9bc       88          N             0   \n",
       "1               Y  C_ID_4e6213e9bc       88          N             0   \n",
       "2               Y  C_ID_4e6213e9bc       88          N             0   \n",
       "3               Y  C_ID_4e6213e9bc       88          N             0   \n",
       "4               Y  C_ID_4e6213e9bc       88          N             0   \n",
       "\n",
       "  category_3  merchant_category_id      merchant_id  month_lag  \\\n",
       "0          A                    80  M_ID_e020e9b302         -8   \n",
       "1          A                   367  M_ID_86ec983688         -7   \n",
       "2          A                    80  M_ID_979ed661fc         -6   \n",
       "3          A                   560  M_ID_e6d5ae8ea6         -5   \n",
       "4          A                    80  M_ID_e020e9b302        -11   \n",
       "\n",
       "   purchase_amount        purchase_date  category_2  state_id  subsector_id  \n",
       "0        -0.703331  2017-06-25 15:33:07         1.0        16            37  \n",
       "1        -0.733128  2017-07-15 12:10:45         1.0        16            16  \n",
       "2        -0.720386  2017-08-09 22:04:29         1.0        16            37  \n",
       "3        -0.735352  2017-09-02 10:06:26         1.0        16            34  \n",
       "4        -0.722865  2017-03-10 01:14:19         1.0        16            37  "
      ]
     },
     "execution_count": 164,
     "metadata": {},
     "output_type": "execute_result"
    }
   ],
   "source": [
    "history_transaction.head(5)"
   ]
  },
  {
   "cell_type": "code",
   "execution_count": 165,
   "id": "f6e0dd9f-0758-438b-966a-752f2f647bba",
   "metadata": {},
   "outputs": [
    {
     "name": "stdout",
     "output_type": "stream",
     "text": [
      "<class 'pandas.core.frame.DataFrame'>\n",
      "RangeIndex: 29112361 entries, 0 to 29112360\n",
      "Data columns (total 14 columns):\n",
      " #   Column                Dtype  \n",
      "---  ------                -----  \n",
      " 0   authorized_flag       object \n",
      " 1   card_id               object \n",
      " 2   city_id               int64  \n",
      " 3   category_1            object \n",
      " 4   installments          int64  \n",
      " 5   category_3            object \n",
      " 6   merchant_category_id  int64  \n",
      " 7   merchant_id           object \n",
      " 8   month_lag             int64  \n",
      " 9   purchase_amount       float64\n",
      " 10  purchase_date         object \n",
      " 11  category_2            float64\n",
      " 12  state_id              int64  \n",
      " 13  subsector_id          int64  \n",
      "dtypes: float64(2), int64(6), object(6)\n",
      "memory usage: 3.0+ GB\n"
     ]
    }
   ],
   "source": [
    "history_transaction.info()"
   ]
  },
  {
   "cell_type": "code",
   "execution_count": 51,
   "id": "630ed0b0-8883-4aa3-8731-f1e12b4cc16c",
   "metadata": {},
   "outputs": [
    {
     "data": {
      "text/html": [
       "<div>\n",
       "<style scoped>\n",
       "    .dataframe tbody tr th:only-of-type {\n",
       "        vertical-align: middle;\n",
       "    }\n",
       "\n",
       "    .dataframe tbody tr th {\n",
       "        vertical-align: top;\n",
       "    }\n",
       "\n",
       "    .dataframe thead th {\n",
       "        text-align: right;\n",
       "    }\n",
       "</style>\n",
       "<table border=\"1\" class=\"dataframe\">\n",
       "  <thead>\n",
       "    <tr style=\"text-align: right;\">\n",
       "      <th></th>\n",
       "      <th>Columns</th>\n",
       "      <th>Description</th>\n",
       "    </tr>\n",
       "  </thead>\n",
       "  <tbody>\n",
       "    <tr>\n",
       "      <th>0</th>\n",
       "      <td>card_id</td>\n",
       "      <td>Card identifier</td>\n",
       "    </tr>\n",
       "    <tr>\n",
       "      <th>1</th>\n",
       "      <td>month_lag</td>\n",
       "      <td>month lag to reference date</td>\n",
       "    </tr>\n",
       "    <tr>\n",
       "      <th>2</th>\n",
       "      <td>purchase_date</td>\n",
       "      <td>Purchase date</td>\n",
       "    </tr>\n",
       "    <tr>\n",
       "      <th>3</th>\n",
       "      <td>authorized_flag</td>\n",
       "      <td>Y' if approved, 'N' if denied</td>\n",
       "    </tr>\n",
       "    <tr>\n",
       "      <th>4</th>\n",
       "      <td>category_3</td>\n",
       "      <td>anonymized category</td>\n",
       "    </tr>\n",
       "    <tr>\n",
       "      <th>5</th>\n",
       "      <td>installments</td>\n",
       "      <td>number of installments of purchase</td>\n",
       "    </tr>\n",
       "    <tr>\n",
       "      <th>6</th>\n",
       "      <td>category_1</td>\n",
       "      <td>anonymized category</td>\n",
       "    </tr>\n",
       "    <tr>\n",
       "      <th>7</th>\n",
       "      <td>merchant_category_id</td>\n",
       "      <td>Merchant category identifier (anonymized )</td>\n",
       "    </tr>\n",
       "    <tr>\n",
       "      <th>8</th>\n",
       "      <td>subsector_id</td>\n",
       "      <td>Merchant category group identifier (anonymized )</td>\n",
       "    </tr>\n",
       "    <tr>\n",
       "      <th>9</th>\n",
       "      <td>merchant_id</td>\n",
       "      <td>Merchant identifier (anonymized)</td>\n",
       "    </tr>\n",
       "    <tr>\n",
       "      <th>10</th>\n",
       "      <td>purchase_amount</td>\n",
       "      <td>Normalized purchase amount</td>\n",
       "    </tr>\n",
       "    <tr>\n",
       "      <th>11</th>\n",
       "      <td>city_id</td>\n",
       "      <td>City identifier (anonymized )</td>\n",
       "    </tr>\n",
       "    <tr>\n",
       "      <th>12</th>\n",
       "      <td>state_id</td>\n",
       "      <td>State identifier (anonymized )</td>\n",
       "    </tr>\n",
       "    <tr>\n",
       "      <th>13</th>\n",
       "      <td>category_2</td>\n",
       "      <td>anonymized category</td>\n",
       "    </tr>\n",
       "  </tbody>\n",
       "</table>\n",
       "</div>"
      ],
      "text/plain": [
       "                 Columns                                       Description\n",
       "0                card_id                                   Card identifier\n",
       "1              month_lag                       month lag to reference date\n",
       "2          purchase_date                                     Purchase date\n",
       "3        authorized_flag                     Y' if approved, 'N' if denied\n",
       "4             category_3                               anonymized category\n",
       "5           installments                number of installments of purchase\n",
       "6             category_1                               anonymized category\n",
       "7   merchant_category_id        Merchant category identifier (anonymized )\n",
       "8           subsector_id  Merchant category group identifier (anonymized )\n",
       "9            merchant_id                  Merchant identifier (anonymized)\n",
       "10       purchase_amount                        Normalized purchase amount\n",
       "11               city_id                     City identifier (anonymized )\n",
       "12              state_id                    State identifier (anonymized )\n",
       "13            category_2                               anonymized category"
      ]
     },
     "execution_count": 51,
     "metadata": {},
     "output_type": "execute_result"
    }
   ],
   "source": [
    "pd.read_excel('./eloData/Data Dictionary.xlsx', header=2, sheet_name='history')"
   ]
  },
  {
   "cell_type": "markdown",
   "id": "13ad3f9a-6a70-472b-8092-3e28059b46af",
   "metadata": {},
   "source": [
    "- new_merchant_transactions："
   ]
  },
  {
   "cell_type": "markdown",
   "id": "207f7dca-2b5e-4575-8b86-03707d76e24c",
   "metadata": {},
   "source": [
    "&emsp;&emsp;The credit card transaction information after February 2018 is exactly the same as the historical_transactions field."
   ]
  },
  {
   "cell_type": "code",
   "execution_count": 179,
   "id": "4c93515f-0354-4ebb-b539-8c5b096611ed",
   "metadata": {},
   "outputs": [],
   "source": [
    "new_transaction = pd.read_csv('./new_merchant_transactions.csv', header=0)"
   ]
  },
  {
   "cell_type": "code",
   "execution_count": 167,
   "id": "7a734954-8240-4c2a-9376-c6196df5c4c6",
   "metadata": {},
   "outputs": [
    {
     "data": {
      "text/html": [
       "<div>\n",
       "<style scoped>\n",
       "    .dataframe tbody tr th:only-of-type {\n",
       "        vertical-align: middle;\n",
       "    }\n",
       "\n",
       "    .dataframe tbody tr th {\n",
       "        vertical-align: top;\n",
       "    }\n",
       "\n",
       "    .dataframe thead th {\n",
       "        text-align: right;\n",
       "    }\n",
       "</style>\n",
       "<table border=\"1\" class=\"dataframe\">\n",
       "  <thead>\n",
       "    <tr style=\"text-align: right;\">\n",
       "      <th></th>\n",
       "      <th>authorized_flag</th>\n",
       "      <th>card_id</th>\n",
       "      <th>city_id</th>\n",
       "      <th>category_1</th>\n",
       "      <th>installments</th>\n",
       "      <th>category_3</th>\n",
       "      <th>merchant_category_id</th>\n",
       "      <th>merchant_id</th>\n",
       "      <th>month_lag</th>\n",
       "      <th>purchase_amount</th>\n",
       "      <th>purchase_date</th>\n",
       "      <th>category_2</th>\n",
       "      <th>state_id</th>\n",
       "      <th>subsector_id</th>\n",
       "    </tr>\n",
       "  </thead>\n",
       "  <tbody>\n",
       "    <tr>\n",
       "      <th>0</th>\n",
       "      <td>Y</td>\n",
       "      <td>C_ID_415bb3a509</td>\n",
       "      <td>107</td>\n",
       "      <td>N</td>\n",
       "      <td>1</td>\n",
       "      <td>B</td>\n",
       "      <td>307</td>\n",
       "      <td>M_ID_b0c793002c</td>\n",
       "      <td>1</td>\n",
       "      <td>-0.557574</td>\n",
       "      <td>2018-03-11 14:57:36</td>\n",
       "      <td>1.0</td>\n",
       "      <td>9</td>\n",
       "      <td>19</td>\n",
       "    </tr>\n",
       "    <tr>\n",
       "      <th>1</th>\n",
       "      <td>Y</td>\n",
       "      <td>C_ID_415bb3a509</td>\n",
       "      <td>140</td>\n",
       "      <td>N</td>\n",
       "      <td>1</td>\n",
       "      <td>B</td>\n",
       "      <td>307</td>\n",
       "      <td>M_ID_88920c89e8</td>\n",
       "      <td>1</td>\n",
       "      <td>-0.569580</td>\n",
       "      <td>2018-03-19 18:53:37</td>\n",
       "      <td>1.0</td>\n",
       "      <td>9</td>\n",
       "      <td>19</td>\n",
       "    </tr>\n",
       "    <tr>\n",
       "      <th>2</th>\n",
       "      <td>Y</td>\n",
       "      <td>C_ID_415bb3a509</td>\n",
       "      <td>330</td>\n",
       "      <td>N</td>\n",
       "      <td>1</td>\n",
       "      <td>B</td>\n",
       "      <td>507</td>\n",
       "      <td>M_ID_ad5237ef6b</td>\n",
       "      <td>2</td>\n",
       "      <td>-0.551037</td>\n",
       "      <td>2018-04-26 14:08:44</td>\n",
       "      <td>1.0</td>\n",
       "      <td>9</td>\n",
       "      <td>14</td>\n",
       "    </tr>\n",
       "    <tr>\n",
       "      <th>3</th>\n",
       "      <td>Y</td>\n",
       "      <td>C_ID_415bb3a509</td>\n",
       "      <td>-1</td>\n",
       "      <td>Y</td>\n",
       "      <td>1</td>\n",
       "      <td>B</td>\n",
       "      <td>661</td>\n",
       "      <td>M_ID_9e84cda3b1</td>\n",
       "      <td>1</td>\n",
       "      <td>-0.671925</td>\n",
       "      <td>2018-03-07 09:43:21</td>\n",
       "      <td>NaN</td>\n",
       "      <td>-1</td>\n",
       "      <td>8</td>\n",
       "    </tr>\n",
       "    <tr>\n",
       "      <th>4</th>\n",
       "      <td>Y</td>\n",
       "      <td>C_ID_ef55cf8d4b</td>\n",
       "      <td>-1</td>\n",
       "      <td>Y</td>\n",
       "      <td>1</td>\n",
       "      <td>B</td>\n",
       "      <td>166</td>\n",
       "      <td>M_ID_3c86fa3831</td>\n",
       "      <td>1</td>\n",
       "      <td>-0.659904</td>\n",
       "      <td>2018-03-22 21:07:53</td>\n",
       "      <td>NaN</td>\n",
       "      <td>-1</td>\n",
       "      <td>29</td>\n",
       "    </tr>\n",
       "  </tbody>\n",
       "</table>\n",
       "</div>"
      ],
      "text/plain": [
       "  authorized_flag          card_id  city_id category_1  installments  \\\n",
       "0               Y  C_ID_415bb3a509      107          N             1   \n",
       "1               Y  C_ID_415bb3a509      140          N             1   \n",
       "2               Y  C_ID_415bb3a509      330          N             1   \n",
       "3               Y  C_ID_415bb3a509       -1          Y             1   \n",
       "4               Y  C_ID_ef55cf8d4b       -1          Y             1   \n",
       "\n",
       "  category_3  merchant_category_id      merchant_id  month_lag  \\\n",
       "0          B                   307  M_ID_b0c793002c          1   \n",
       "1          B                   307  M_ID_88920c89e8          1   \n",
       "2          B                   507  M_ID_ad5237ef6b          2   \n",
       "3          B                   661  M_ID_9e84cda3b1          1   \n",
       "4          B                   166  M_ID_3c86fa3831          1   \n",
       "\n",
       "   purchase_amount        purchase_date  category_2  state_id  subsector_id  \n",
       "0        -0.557574  2018-03-11 14:57:36         1.0         9            19  \n",
       "1        -0.569580  2018-03-19 18:53:37         1.0         9            19  \n",
       "2        -0.551037  2018-04-26 14:08:44         1.0         9            14  \n",
       "3        -0.671925  2018-03-07 09:43:21         NaN        -1             8  \n",
       "4        -0.659904  2018-03-22 21:07:53         NaN        -1            29  "
      ]
     },
     "execution_count": 167,
     "metadata": {},
     "output_type": "execute_result"
    }
   ],
   "source": [
    "new_transaction.head(5)"
   ]
  },
  {
   "cell_type": "code",
   "execution_count": 55,
   "id": "6b406e55-0afa-40a4-b12c-f0f62bc17252",
   "metadata": {},
   "outputs": [
    {
     "name": "stdout",
     "output_type": "stream",
     "text": [
      "<class 'pandas.core.frame.DataFrame'>\n",
      "RangeIndex: 1963031 entries, 0 to 1963030\n",
      "Data columns (total 14 columns):\n",
      " #   Column                Dtype  \n",
      "---  ------                -----  \n",
      " 0   authorized_flag       object \n",
      " 1   card_id               object \n",
      " 2   city_id               int64  \n",
      " 3   category_1            object \n",
      " 4   installments          int64  \n",
      " 5   category_3            object \n",
      " 6   merchant_category_id  int64  \n",
      " 7   merchant_id           object \n",
      " 8   month_lag             int64  \n",
      " 9   purchase_amount       float64\n",
      " 10  purchase_date         object \n",
      " 11  category_2            float64\n",
      " 12  state_id              int64  \n",
      " 13  subsector_id          int64  \n",
      "dtypes: float64(2), int64(6), object(6)\n",
      "memory usage: 209.7+ MB\n"
     ]
    }
   ],
   "source": [
    "pd.read_csv('./new_merchant_transactions.csv', header=0).info()"
   ]
  },
  {
   "cell_type": "markdown",
   "id": "68dc55d9-6abe-40c7-b26c-1fa2572d27cd",
   "metadata": {},
   "source": [
    "There are nearly 2 million pieces of data in this data. There are many fields and business data merchants in this data set are repeated."
   ]
  },
  {
   "cell_type": "markdown",
   "id": "b9dc4c1e-63b2-4933-ac8d-86d02854166f",
   "metadata": {},
   "source": [
    "- Compare merchant datasets"
   ]
  },
  {
   "cell_type": "markdown",
   "id": "3f4de92c-0905-4427-8745-d4b3a21f22df",
   "metadata": {},
   "source": [
    "First, simply check which fields are consistent:"
   ]
  },
  {
   "cell_type": "code",
   "execution_count": 168,
   "id": "b55c9326-f6bf-475d-a0dc-da162a40bc19",
   "metadata": {},
   "outputs": [
    {
     "name": "stdout",
     "output_type": "stream",
     "text": [
      "['merchant_id', 'merchant_category_id', 'subsector_id', 'category_1', 'city_id', 'state_id', 'category_2']\n"
     ]
    }
   ],
   "source": [
    "duplicate_cols = []\n",
    "\n",
    "for col in merchant.columns:\n",
    "    if col in new_transaction.columns:\n",
    "        duplicate_cols.append(col)\n",
    "        \n",
    "print(duplicate_cols)"
   ]
  },
  {
   "cell_type": "markdown",
   "id": "a48b87b5-bb57-4535-b348-30c7fd1ca4d9",
   "metadata": {},
   "source": [
    "merhcant_id information in the transaction records is not unique:"
   ]
  },
  {
   "cell_type": "code",
   "execution_count": 169,
   "id": "06d08ae1-fcd5-4089-8b1b-ef193d7ea190",
   "metadata": {},
   "outputs": [
    {
     "data": {
      "text/plain": [
       "(291242, 7)"
      ]
     },
     "execution_count": 169,
     "metadata": {},
     "output_type": "execute_result"
    }
   ],
   "source": [
    "# remove the duplicates\n",
    "new_transaction[duplicate_cols].drop_duplicates().shape"
   ]
  },
  {
   "cell_type": "code",
   "execution_count": 170,
   "id": "4a8bd2f6-4025-4d2a-b198-0f51b9a79a29",
   "metadata": {},
   "outputs": [
    {
     "data": {
      "text/plain": [
       "226129"
      ]
     },
     "execution_count": 170,
     "metadata": {},
     "output_type": "execute_result"
    }
   ],
   "source": [
    "# Merchant id deduplication\n",
    "new_transaction['merchant_id'].nunique()"
   ]
  },
  {
   "cell_type": "markdown",
   "id": "66ea20dd-a609-436c-8282-c3a2d29babaa",
   "metadata": {},
   "source": [
    "The reason for this phenomenon may be that the store is gradually changing dynamically during the operation process, and based on this, in the subsequent modeling process, we will give priority to using the corresponding records in the transaction records table."
   ]
  },
  {
   "cell_type": "markdown",
   "id": "194403aa-27e6-4076-9f52-73bd53e8c6d1",
   "metadata": {},
   "source": [
    "### 2.data preprocessing"
   ]
  },
  {
   "cell_type": "markdown",
   "id": "1056bda5-9a80-41b0-872e-45810d19d6eb",
   "metadata": {},
   "source": [
    "- Continuous/Discrete Field Labeling"
   ]
  },
  {
   "cell_type": "markdown",
   "id": "4b192864-ca97-4bc8-a7ee-15fc8410515e",
   "metadata": {},
   "source": [
    "&emsp;&emsp;Label its continuous/discrete variables. The time columns are grouped separately:"
   ]
  },
  {
   "cell_type": "code",
   "execution_count": 172,
   "id": "12350f17-5e1d-4de9-bcd8-1ac1b26b4b99",
   "metadata": {},
   "outputs": [],
   "source": [
    "numeric_cols = ['installments', 'month_lag', 'purchase_amount']\n",
    "category_cols = ['authorized_flag', 'card_id', 'city_id', 'category_1',\n",
    "       'category_3', 'merchant_category_id', 'merchant_id', 'category_2', 'state_id',\n",
    "       'subsector_id']\n",
    "time_cols = ['purchase_date']\n",
    "\n",
    "assert len(numeric_cols) + len(category_cols) + len(time_cols) == new_transaction.shape[1]"
   ]
  },
  {
   "cell_type": "markdown",
   "id": "4686c7f1-1b60-4670-91c4-bbdc7175ed54",
   "metadata": {},
   "source": [
    "- Field type conversion / missing value filling"
   ]
  },
  {
   "cell_type": "code",
   "execution_count": 180,
   "id": "b94a2bfe-7291-474a-bd92-a060aa669e11",
   "metadata": {},
   "outputs": [
    {
     "data": {
      "text/plain": [
       "authorized_flag          object\n",
       "card_id                  object\n",
       "city_id                   int64\n",
       "category_1               object\n",
       "category_3               object\n",
       "merchant_category_id      int64\n",
       "merchant_id              object\n",
       "category_2              float64\n",
       "state_id                  int64\n",
       "subsector_id              int64\n",
       "dtype: object"
      ]
     },
     "execution_count": 180,
     "metadata": {},
     "output_type": "execute_result"
    }
   ],
   "source": [
    "# View categories for categorical variables\n",
    "new_transaction[category_cols].dtypes"
   ]
  },
  {
   "cell_type": "code",
   "execution_count": 181,
   "id": "6ca58296-24b5-4af3-a735-63671aa3bc0d",
   "metadata": {},
   "outputs": [
    {
     "data": {
      "text/plain": [
       "authorized_flag              0\n",
       "card_id                      0\n",
       "city_id                      0\n",
       "category_1                   0\n",
       "category_3               55922\n",
       "merchant_category_id         0\n",
       "merchant_id              26216\n",
       "category_2              111745\n",
       "state_id                     0\n",
       "subsector_id                 0\n",
       "dtype: int64"
      ]
     },
     "execution_count": 181,
     "metadata": {},
     "output_type": "execute_result"
    }
   ],
   "source": [
    "new_transaction[category_cols].isnull().sum()"
   ]
  },
  {
   "cell_type": "markdown",
   "id": "b506873e-ee11-44e3-9fcc-c85d20537495",
   "metadata": {},
   "source": [
    "Encode its object type object as a dictionary (except id), and use -1 to fill in missing values:"
   ]
  },
  {
   "cell_type": "code",
   "execution_count": 176,
   "id": "1d8e1730-3fdb-4d19-a37b-7afbede5e7c3",
   "metadata": {},
   "outputs": [],
   "source": [
    "for col in ['authorized_flag', 'category_1', 'category_3']:\n",
    "    new_transaction[col] = change_object_cols(new_transaction[col].fillna(-1).astype(str))\n",
    "    \n",
    "new_transaction[category_cols] = new_transaction[category_cols].fillna(-1)"
   ]
  },
  {
   "cell_type": "code",
   "execution_count": 177,
   "id": "d819f2ba-4ebe-4b25-ac32-f6ec741d89fb",
   "metadata": {},
   "outputs": [
    {
     "data": {
      "text/plain": [
       "authorized_flag           int64\n",
       "card_id                  object\n",
       "city_id                   int64\n",
       "category_1                int64\n",
       "category_3                int64\n",
       "merchant_category_id      int64\n",
       "merchant_id              object\n",
       "category_2              float64\n",
       "state_id                  int64\n",
       "subsector_id              int64\n",
       "dtype: object"
      ]
     },
     "execution_count": 177,
     "metadata": {},
     "output_type": "execute_result"
    }
   ],
   "source": [
    "new_transaction[category_cols].dtypes"
   ]
  }
 ],
 "metadata": {
  "kernelspec": {
   "display_name": "Python 3 (ipykernel)",
   "language": "python",
   "name": "python3"
  },
  "language_info": {
   "codemirror_mode": {
    "name": "ipython",
    "version": 3
   },
   "file_extension": ".py",
   "mimetype": "text/x-python",
   "name": "python",
   "nbconvert_exporter": "python",
   "pygments_lexer": "ipython3",
   "version": "3.9.7"
  }
 },
 "nbformat": 4,
 "nbformat_minor": 5
}
