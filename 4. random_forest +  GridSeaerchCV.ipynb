{
 "cells": [
  {
   "cell_type": "code",
   "execution_count": 1,
   "id": "aa6d1cde-56a9-4302-9df7-e32ea3f259ed",
   "metadata": {},
   "outputs": [],
   "source": [
    "import csv\n",
    "import pandas as pd"
   ]
  },
  {
   "cell_type": "markdown",
   "id": "fe65d59b-e848-4d05-8a11-22d4bd2a38a3",
   "metadata": {},
   "source": [
    "## Random Forest + GridSearch"
   ]
  },
  {
   "cell_type": "code",
   "execution_count": 5,
   "id": "5611b749-4dfa-46ba-92e1-6d5bd9a0c871",
   "metadata": {},
   "outputs": [],
   "source": [
    "train = pd.read_csv(\"preprocess/train.csv\")\n",
    "test = pd.read_csv(\"preprocess/test.csv\")"
   ]
  },
  {
   "cell_type": "markdown",
   "id": "5237f2f2-8b90-43d9-b636-cae272b0fffe",
   "metadata": {},
   "source": [
    "- Future Selection"
   ]
  },
  {
   "cell_type": "markdown",
   "id": "cd08c74a-f05f-4141-89cd-829fdcfc7464",
   "metadata": {},
   "source": [
    "&emsp;&emsp;Since thousands of features have been created before, if all the features are brought in for modeling, the modeling time of the model will be greatly extended, and too many irrelevant features will improve the model results to a limited extent, so here we use the Pearson correlation coefficient , select the 300 features most relevant to the label for modeling."
   ]
  },
  {
   "cell_type": "code",
   "execution_count": 7,
   "id": "3d35d4ba-1ff6-48f5-9b0d-1c693e9042a2",
   "metadata": {
    "tags": []
   },
   "outputs": [],
   "source": [
    "# Extract feature names\n",
    "features = train.columns.tolist()\n",
    "features.remove(\"card_id\")\n",
    "features.remove(\"target\")\n",
    "featureSelect = features[:]\n",
    "\n",
    "# Calculate the correlation coefficient\n",
    "corr = []\n",
    "for fea in featureSelect:\n",
    "    corr.append(abs(train[[fea, 'target']].fillna(0).corr().values[0][1]))\n",
    "\n",
    "# Take the top300 features for modeling, the specific number is optional\n",
    "se = pd.Series(corr, index=featureSelect).sort_values(ascending=False)\n",
    "feature_select = ['card_id'] + se[:300].index.tolist()\n",
    "\n",
    "# output result\n",
    "train = train[feature_select + ['target']]\n",
    "test = test[feature_select]"
   ]
  },
  {
   "cell_type": "markdown",
   "id": "6fdcd401-15d9-49f0-95ff-c62a4ad59095",
   "metadata": {},
   "source": [
    ">The main reason why feature extraction can be performed through the Pearson correlation coefficient is that we default all features to continuous variables in the process of feature creation "
   ]
  },
  {
   "cell_type": "markdown",
   "id": "61f1f709-c56f-4ba9-8243-00e7f44c9a36",
   "metadata": {},
   "source": [
    "- Parameter tuning with grid search"
   ]
  },
  {
   "cell_type": "code",
   "execution_count": 30,
   "id": "1b20b0d7-e225-4802-81bf-728bacfabcb4",
   "metadata": {},
   "outputs": [],
   "source": [
    "from sklearn.metrics import mean_squared_error #Mean squared error calculation function\n",
    "from sklearn.ensemble import RandomForestRegressor #random forest estimator\n",
    "from sklearn.model_selection import GridSearchCV #grid search estimator"
   ]
  },
  {
   "cell_type": "markdown",
   "id": "7c5fab8a-8070-4caf-8316-349309db75d8",
   "metadata": {},
   "source": [
    "Create a parameter space, the basic parameters of the random forest are as follows:"
   ]
  },
  {
   "cell_type": "markdown",
   "id": "29433ba8-5627-4545-ac89-5df7fa766b6c",
   "metadata": {},
   "source": [
    "|Name|Description|      \n",
    "|:--:|:--:| \n",
    "|criterion|规则评估指标或损失函数，默认基尼系数，可选信息熵| \n",
    "|splitter|树模型生长方式，默认以损失函数取值减少最快方式生长，可选随机根据某条件进行划分|\n",
    "|max_depth|树的最大生长深度，类似max_iter，即总共迭代几次| \n",
    "|min_samples_split|内部节点再划分所需最小样本数| \n",
    "|min_samples_leaf|叶节点包含最少样本数| \n",
    "|min_weight_fraction_leaf|叶节点所需最小权重和| \n",
    "|max_features|在进行切分时候最多带入多少个特征进行划分规则挑选|\n",
    "|random_state|随机数种子| \n",
    "|max_leaf_nodes|叶节点最大个数| \n",
    "|min_impurity_decrease|数据集再划分至少需要降低的损失值| \n",
    "|min_impurity_split|数据集再划分所需最低不纯度，将在0.25版本中移除| \n",
    "|class_weight|各类样本权重| "
   ]
  },
  {
   "cell_type": "markdown",
   "id": "017b2725-b9e8-4cba-a5df-915087ac369e",
   "metadata": {},
   "source": [
    "Select \"n_estimators\", \"min_samples_leaf\", \"min_samples_split\", \"max_depth\" and \"max_features\" for parameter search:"
   ]
  },
  {
   "cell_type": "markdown",
   "id": "a207c53d-03ab-4876-9f24-d14e95be06fc",
   "metadata": {},
   "source": [
    "> RandomizedSearchCV / HalvingGridSearchCV / HalvingRandomSearchCV. Further reduce the computing resources required by the grid search and speed up the grid search."
   ]
  },
  {
   "cell_type": "markdown",
   "id": "84493899-a60f-436c-b112-51be789da71b",
   "metadata": {},
   "source": [
    "&emsp;&emsp;First use RandomizedSearchCV to determine the approximate range, and then use GridSearchCV to search for specific parameter values with high precision"
   ]
  },
  {
   "cell_type": "code",
   "execution_count": 43,
   "id": "73877975-2bf9-4f3a-a40d-fffedfa4473b",
   "metadata": {},
   "outputs": [],
   "source": [
    "features = train.columns.tolist()\n",
    "features.remove(\"card_id\")\n",
    "features.remove(\"target\")\n",
    "\n",
    "\n",
    "parameter_space = {\n",
    "    \"n_estimators\": [79, 80, 81], \n",
    "    \"min_samples_leaf\": [29, 30, 31],\n",
    "    \"min_samples_split\": [2, 3],\n",
    "    \"max_depth\": [9, 10],\n",
    "    \"max_features\": [\"auto\", 80]\n",
    "}"
   ]
  },
  {
   "cell_type": "markdown",
   "id": "8995b494-9c2c-4d39-91d8-0f11eb387051",
   "metadata": {},
   "source": [
    "Then build a random forest evaluator and enter other hyperparameter values"
   ]
  },
  {
   "cell_type": "code",
   "execution_count": 44,
   "id": "a68164df-fe10-49bc-9221-4bf078daf81b",
   "metadata": {},
   "outputs": [],
   "source": [
    "clf = RandomForestRegressor(\n",
    "    criterion=\"mse\",\n",
    "    n_jobs=15,\n",
    "    random_state=22)"
   ]
  },
  {
   "cell_type": "markdown",
   "id": "a69a6682-931e-4986-a938-a27348fd72af",
   "metadata": {},
   "source": [
    " grid search:"
   ]
  },
  {
   "cell_type": "code",
   "execution_count": 45,
   "id": "7e25c8e1-cd80-4dd4-9f13-e87b084375c2",
   "metadata": {},
   "outputs": [
    {
     "data": {
      "text/plain": [
       "GridSearchCV(cv=2, estimator=RandomForestRegressor(n_jobs=15, random_state=22),\n",
       "             param_grid={'max_depth': [9, 10], 'max_features': ['auto', 80],\n",
       "                         'min_samples_leaf': [29, 30, 31],\n",
       "                         'min_samples_split': [2, 3],\n",
       "                         'n_estimators': [79, 80, 81]},\n",
       "             scoring='neg_mean_squared_error')"
      ]
     },
     "execution_count": 45,
     "metadata": {},
     "output_type": "execute_result"
    }
   ],
   "source": [
    "grid = GridSearchCV(clf, parameter_space, cv=2, scoring=\"neg_mean_squared_error\")\n",
    "grid.fit(train[features].values, train['target'].values)"
   ]
  },
  {
   "cell_type": "markdown",
   "id": "175277fa-6959-4673-bf8e-98de5484a575",
   "metadata": {},
   "source": [
    "&emsp;&emsp;The optimal parameter group finally searched in the parameter space:"
   ]
  },
  {
   "cell_type": "code",
   "execution_count": 46,
   "id": "b35845b1-96d3-414d-adf9-1b29d24ca2c3",
   "metadata": {},
   "outputs": [
    {
     "data": {
      "text/plain": [
       "{'max_depth': 10,\n",
       " 'max_features': 80,\n",
       " 'min_samples_leaf': 31,\n",
       " 'min_samples_split': 2,\n",
       " 'n_estimators': 80}"
      ]
     },
     "execution_count": 46,
     "metadata": {},
     "output_type": "execute_result"
    }
   ],
   "source": [
    "grid.best_params_"
   ]
  },
  {
   "cell_type": "markdown",
   "id": "aa93f506-b37c-4426-97ec-c55bf9ced87d",
   "metadata": {},
   "source": [
    "View or call the optimal parameter composition estimator directly:"
   ]
  },
  {
   "cell_type": "code",
   "execution_count": 47,
   "id": "a33a69e9-5eb9-40b1-a5b0-a94f52ed2b2d",
   "metadata": {},
   "outputs": [
    {
     "data": {
      "text/plain": [
       "RandomForestRegressor(max_depth=10, max_features=80, min_samples_leaf=31,\n",
       "                      n_estimators=80, n_jobs=15, random_state=22)"
      ]
     },
     "execution_count": 47,
     "metadata": {},
     "output_type": "execute_result"
    }
   ],
   "source": [
    "grid.best_estimator_"
   ]
  },
  {
   "cell_type": "markdown",
   "id": "e621059e-e5e7-4ddb-aad1-a209484935db",
   "metadata": {},
   "source": [
    "view the final score on the training set:"
   ]
  },
  {
   "cell_type": "code",
   "execution_count": 48,
   "id": "5f537d06-b03a-4053-8ebb-222c68afed09",
   "metadata": {},
   "outputs": [
    {
     "data": {
      "text/plain": [
       "3.6900889856014247"
      ]
     },
     "execution_count": 48,
     "metadata": {},
     "output_type": "execute_result"
    }
   ],
   "source": [
    "np.sqrt(-grid.best_score_)"
   ]
  },
  {
   "cell_type": "code",
   "execution_count": 49,
   "id": "b11e4a8f-0478-4d6c-a1aa-c0bdd52e674a",
   "metadata": {},
   "outputs": [
    {
     "data": {
      "text/plain": [
       "array([-3.42895506, -1.05271922, -0.34647055, ...,  0.71331227,\n",
       "       -2.40402906,  0.29249733])"
      ]
     },
     "execution_count": 49,
     "metadata": {},
     "output_type": "execute_result"
    }
   ],
   "source": [
    "grid.best_estimator_.predict(test[features])"
   ]
  },
  {
   "cell_type": "markdown",
   "id": "fd5566b4-78cb-4fa9-a74d-7aa0e4306451",
   "metadata": {},
   "source": [
    "Write the csv document according to the format that needs to be submitted"
   ]
  },
  {
   "cell_type": "code",
   "execution_count": 50,
   "id": "d2419eba-9314-4bf7-98ca-fef268e682ec",
   "metadata": {},
   "outputs": [],
   "source": [
    "test['target'] = grid.best_estimator_.predict(test[features])\n",
    "test[['card_id', 'target']].to_csv(\"result/submission_randomforest.csv\", index=False)"
   ]
  }
 ],
 "metadata": {
  "kernelspec": {
   "display_name": "Python 3 (ipykernel)",
   "language": "python",
   "name": "python3"
  },
  "language_info": {
   "codemirror_mode": {
    "name": "ipython",
    "version": 3
   },
   "file_extension": ".py",
   "mimetype": "text/x-python",
   "name": "python",
   "nbconvert_exporter": "python",
   "pygments_lexer": "ipython3",
   "version": "3.9.7"
  }
 },
 "nbformat": 4,
 "nbformat_minor": 5
}
